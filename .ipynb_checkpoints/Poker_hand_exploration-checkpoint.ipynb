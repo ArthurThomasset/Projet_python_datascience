{
 "cells": [
  {
   "cell_type": "markdown",
   "metadata": {},
   "source": [
    "# Projet Python Data Analysis\n",
    "\n",
    "# Dataset : Poker Hand"
   ]
  },
  {
   "cell_type": "markdown",
   "metadata": {},
   "source": [
    "## Packages import"
   ]
  },
  {
   "cell_type": "code",
   "execution_count": 1,
   "metadata": {},
   "outputs": [],
   "source": [
    "import pandas as pd\n",
    "import numpy as np\n",
    "import pickle\n",
    "\n",
    "import matplotlib.pyplot as plt\n",
    "import seaborn as sns\n",
    "\n",
    "from sklearn import metrics\n",
    "from sklearn.preprocessing import OneHotEncoder\n",
    "from sklearn.preprocessing import StandardScaler\n",
    "\n",
    "from sklearn.model_selection import RandomizedSearchCV\n",
    "from sklearn.model_selection import GridSearchCV\n",
    "\n",
    "from sklearn.metrics import accuracy_score, classification_report,confusion_matrix\n",
    "\n",
    "from sklearn.ensemble import RandomForestClassifier\n",
    "from sklearn.neural_network import MLPClassifier\n"
   ]
  },
  {
   "cell_type": "markdown",
   "metadata": {},
   "source": [
    "## Data Exploration\n"
   ]
  },
  {
   "cell_type": "code",
   "execution_count": 2,
   "metadata": {
    "scrolled": true
   },
   "outputs": [
    {
     "data": {
      "text/html": [
       "<div>\n",
       "<style scoped>\n",
       "    .dataframe tbody tr th:only-of-type {\n",
       "        vertical-align: middle;\n",
       "    }\n",
       "\n",
       "    .dataframe tbody tr th {\n",
       "        vertical-align: top;\n",
       "    }\n",
       "\n",
       "    .dataframe thead th {\n",
       "        text-align: right;\n",
       "    }\n",
       "</style>\n",
       "<table border=\"1\" class=\"dataframe\">\n",
       "  <thead>\n",
       "    <tr style=\"text-align: right;\">\n",
       "      <th></th>\n",
       "      <th>S1</th>\n",
       "      <th>C1</th>\n",
       "      <th>S2</th>\n",
       "      <th>C2</th>\n",
       "      <th>S3</th>\n",
       "      <th>C3</th>\n",
       "      <th>S4</th>\n",
       "      <th>C4</th>\n",
       "      <th>S5</th>\n",
       "      <th>C5</th>\n",
       "      <th>Y</th>\n",
       "    </tr>\n",
       "  </thead>\n",
       "  <tbody>\n",
       "    <tr>\n",
       "      <th>0</th>\n",
       "      <td>1</td>\n",
       "      <td>10</td>\n",
       "      <td>1</td>\n",
       "      <td>11</td>\n",
       "      <td>1</td>\n",
       "      <td>13</td>\n",
       "      <td>1</td>\n",
       "      <td>12</td>\n",
       "      <td>1</td>\n",
       "      <td>1</td>\n",
       "      <td>9</td>\n",
       "    </tr>\n",
       "    <tr>\n",
       "      <th>1</th>\n",
       "      <td>2</td>\n",
       "      <td>11</td>\n",
       "      <td>2</td>\n",
       "      <td>13</td>\n",
       "      <td>2</td>\n",
       "      <td>10</td>\n",
       "      <td>2</td>\n",
       "      <td>12</td>\n",
       "      <td>2</td>\n",
       "      <td>1</td>\n",
       "      <td>9</td>\n",
       "    </tr>\n",
       "    <tr>\n",
       "      <th>2</th>\n",
       "      <td>3</td>\n",
       "      <td>12</td>\n",
       "      <td>3</td>\n",
       "      <td>11</td>\n",
       "      <td>3</td>\n",
       "      <td>13</td>\n",
       "      <td>3</td>\n",
       "      <td>10</td>\n",
       "      <td>3</td>\n",
       "      <td>1</td>\n",
       "      <td>9</td>\n",
       "    </tr>\n",
       "    <tr>\n",
       "      <th>3</th>\n",
       "      <td>4</td>\n",
       "      <td>10</td>\n",
       "      <td>4</td>\n",
       "      <td>11</td>\n",
       "      <td>4</td>\n",
       "      <td>1</td>\n",
       "      <td>4</td>\n",
       "      <td>13</td>\n",
       "      <td>4</td>\n",
       "      <td>12</td>\n",
       "      <td>9</td>\n",
       "    </tr>\n",
       "    <tr>\n",
       "      <th>4</th>\n",
       "      <td>4</td>\n",
       "      <td>1</td>\n",
       "      <td>4</td>\n",
       "      <td>13</td>\n",
       "      <td>4</td>\n",
       "      <td>12</td>\n",
       "      <td>4</td>\n",
       "      <td>11</td>\n",
       "      <td>4</td>\n",
       "      <td>10</td>\n",
       "      <td>9</td>\n",
       "    </tr>\n",
       "  </tbody>\n",
       "</table>\n",
       "</div>"
      ],
      "text/plain": [
       "   S1  C1  S2  C2  S3  C3  S4  C4  S5  C5  Y\n",
       "0   1  10   1  11   1  13   1  12   1   1  9\n",
       "1   2  11   2  13   2  10   2  12   2   1  9\n",
       "2   3  12   3  11   3  13   3  10   3   1  9\n",
       "3   4  10   4  11   4   1   4  13   4  12  9\n",
       "4   4   1   4  13   4  12   4  11   4  10  9"
      ]
     },
     "execution_count": 2,
     "metadata": {},
     "output_type": "execute_result"
    }
   ],
   "source": [
    "# Importation des données de train\n",
    "column = [\"S1\",\"C1\",\"S2\",\"C2\",\"S3\",\"C3\",\"S4\",\"C4\",\"S5\",\"C5\",\"Y\"]\n",
    "df_poker_hand_train = pd.read_csv('poker-hand-training-true.data.txt',names=column)\n",
    "df_poker_hand_train.head()"
   ]
  },
  {
   "cell_type": "code",
   "execution_count": 3,
   "metadata": {},
   "outputs": [
    {
     "data": {
      "text/html": [
       "<div>\n",
       "<style scoped>\n",
       "    .dataframe tbody tr th:only-of-type {\n",
       "        vertical-align: middle;\n",
       "    }\n",
       "\n",
       "    .dataframe tbody tr th {\n",
       "        vertical-align: top;\n",
       "    }\n",
       "\n",
       "    .dataframe thead th {\n",
       "        text-align: right;\n",
       "    }\n",
       "</style>\n",
       "<table border=\"1\" class=\"dataframe\">\n",
       "  <thead>\n",
       "    <tr style=\"text-align: right;\">\n",
       "      <th></th>\n",
       "      <th>S1</th>\n",
       "      <th>C1</th>\n",
       "      <th>S2</th>\n",
       "      <th>C2</th>\n",
       "      <th>S3</th>\n",
       "      <th>C3</th>\n",
       "      <th>S4</th>\n",
       "      <th>C4</th>\n",
       "      <th>S5</th>\n",
       "      <th>C5</th>\n",
       "      <th>Y</th>\n",
       "    </tr>\n",
       "  </thead>\n",
       "  <tbody>\n",
       "    <tr>\n",
       "      <th>count</th>\n",
       "      <td>25010.000000</td>\n",
       "      <td>25010.000000</td>\n",
       "      <td>25010.000000</td>\n",
       "      <td>25010.000000</td>\n",
       "      <td>25010.000000</td>\n",
       "      <td>25010.000000</td>\n",
       "      <td>25010.000000</td>\n",
       "      <td>25010.000000</td>\n",
       "      <td>25010.000000</td>\n",
       "      <td>25010.000000</td>\n",
       "      <td>25010.000000</td>\n",
       "    </tr>\n",
       "    <tr>\n",
       "      <th>mean</th>\n",
       "      <td>2.508756</td>\n",
       "      <td>6.995242</td>\n",
       "      <td>2.497721</td>\n",
       "      <td>7.014194</td>\n",
       "      <td>2.510236</td>\n",
       "      <td>7.014154</td>\n",
       "      <td>2.495922</td>\n",
       "      <td>6.942463</td>\n",
       "      <td>2.497321</td>\n",
       "      <td>6.962735</td>\n",
       "      <td>0.621152</td>\n",
       "    </tr>\n",
       "    <tr>\n",
       "      <th>std</th>\n",
       "      <td>1.116483</td>\n",
       "      <td>3.749805</td>\n",
       "      <td>1.121767</td>\n",
       "      <td>3.766974</td>\n",
       "      <td>1.123148</td>\n",
       "      <td>3.744974</td>\n",
       "      <td>1.116009</td>\n",
       "      <td>3.747147</td>\n",
       "      <td>1.118732</td>\n",
       "      <td>3.741579</td>\n",
       "      <td>0.788361</td>\n",
       "    </tr>\n",
       "    <tr>\n",
       "      <th>min</th>\n",
       "      <td>1.000000</td>\n",
       "      <td>1.000000</td>\n",
       "      <td>1.000000</td>\n",
       "      <td>1.000000</td>\n",
       "      <td>1.000000</td>\n",
       "      <td>1.000000</td>\n",
       "      <td>1.000000</td>\n",
       "      <td>1.000000</td>\n",
       "      <td>1.000000</td>\n",
       "      <td>1.000000</td>\n",
       "      <td>0.000000</td>\n",
       "    </tr>\n",
       "    <tr>\n",
       "      <th>25%</th>\n",
       "      <td>2.000000</td>\n",
       "      <td>4.000000</td>\n",
       "      <td>1.000000</td>\n",
       "      <td>4.000000</td>\n",
       "      <td>2.000000</td>\n",
       "      <td>4.000000</td>\n",
       "      <td>1.000000</td>\n",
       "      <td>4.000000</td>\n",
       "      <td>1.000000</td>\n",
       "      <td>4.000000</td>\n",
       "      <td>0.000000</td>\n",
       "    </tr>\n",
       "    <tr>\n",
       "      <th>50%</th>\n",
       "      <td>3.000000</td>\n",
       "      <td>7.000000</td>\n",
       "      <td>2.000000</td>\n",
       "      <td>7.000000</td>\n",
       "      <td>3.000000</td>\n",
       "      <td>7.000000</td>\n",
       "      <td>2.000000</td>\n",
       "      <td>7.000000</td>\n",
       "      <td>3.000000</td>\n",
       "      <td>7.000000</td>\n",
       "      <td>1.000000</td>\n",
       "    </tr>\n",
       "    <tr>\n",
       "      <th>75%</th>\n",
       "      <td>4.000000</td>\n",
       "      <td>10.000000</td>\n",
       "      <td>4.000000</td>\n",
       "      <td>10.000000</td>\n",
       "      <td>4.000000</td>\n",
       "      <td>10.000000</td>\n",
       "      <td>3.000000</td>\n",
       "      <td>10.000000</td>\n",
       "      <td>3.000000</td>\n",
       "      <td>10.000000</td>\n",
       "      <td>1.000000</td>\n",
       "    </tr>\n",
       "    <tr>\n",
       "      <th>max</th>\n",
       "      <td>4.000000</td>\n",
       "      <td>13.000000</td>\n",
       "      <td>4.000000</td>\n",
       "      <td>13.000000</td>\n",
       "      <td>4.000000</td>\n",
       "      <td>13.000000</td>\n",
       "      <td>4.000000</td>\n",
       "      <td>13.000000</td>\n",
       "      <td>4.000000</td>\n",
       "      <td>13.000000</td>\n",
       "      <td>9.000000</td>\n",
       "    </tr>\n",
       "  </tbody>\n",
       "</table>\n",
       "</div>"
      ],
      "text/plain": [
       "                 S1            C1            S2            C2            S3  \\\n",
       "count  25010.000000  25010.000000  25010.000000  25010.000000  25010.000000   \n",
       "mean       2.508756      6.995242      2.497721      7.014194      2.510236   \n",
       "std        1.116483      3.749805      1.121767      3.766974      1.123148   \n",
       "min        1.000000      1.000000      1.000000      1.000000      1.000000   \n",
       "25%        2.000000      4.000000      1.000000      4.000000      2.000000   \n",
       "50%        3.000000      7.000000      2.000000      7.000000      3.000000   \n",
       "75%        4.000000     10.000000      4.000000     10.000000      4.000000   \n",
       "max        4.000000     13.000000      4.000000     13.000000      4.000000   \n",
       "\n",
       "                 C3            S4            C4            S5            C5  \\\n",
       "count  25010.000000  25010.000000  25010.000000  25010.000000  25010.000000   \n",
       "mean       7.014154      2.495922      6.942463      2.497321      6.962735   \n",
       "std        3.744974      1.116009      3.747147      1.118732      3.741579   \n",
       "min        1.000000      1.000000      1.000000      1.000000      1.000000   \n",
       "25%        4.000000      1.000000      4.000000      1.000000      4.000000   \n",
       "50%        7.000000      2.000000      7.000000      3.000000      7.000000   \n",
       "75%       10.000000      3.000000     10.000000      3.000000     10.000000   \n",
       "max       13.000000      4.000000     13.000000      4.000000     13.000000   \n",
       "\n",
       "                  Y  \n",
       "count  25010.000000  \n",
       "mean       0.621152  \n",
       "std        0.788361  \n",
       "min        0.000000  \n",
       "25%        0.000000  \n",
       "50%        1.000000  \n",
       "75%        1.000000  \n",
       "max        9.000000  "
      ]
     },
     "execution_count": 3,
     "metadata": {},
     "output_type": "execute_result"
    }
   ],
   "source": [
    "# Description des variables quantitatives dans le jeu de train\n",
    "df_poker_hand_train.describe()"
   ]
  },
  {
   "cell_type": "code",
   "execution_count": 4,
   "metadata": {
    "scrolled": true
   },
   "outputs": [
    {
     "data": {
      "text/html": [
       "<div>\n",
       "<style scoped>\n",
       "    .dataframe tbody tr th:only-of-type {\n",
       "        vertical-align: middle;\n",
       "    }\n",
       "\n",
       "    .dataframe tbody tr th {\n",
       "        vertical-align: top;\n",
       "    }\n",
       "\n",
       "    .dataframe thead th {\n",
       "        text-align: right;\n",
       "    }\n",
       "</style>\n",
       "<table border=\"1\" class=\"dataframe\">\n",
       "  <thead>\n",
       "    <tr style=\"text-align: right;\">\n",
       "      <th></th>\n",
       "      <th>S1</th>\n",
       "      <th>C1</th>\n",
       "      <th>S2</th>\n",
       "      <th>C2</th>\n",
       "      <th>S3</th>\n",
       "      <th>C3</th>\n",
       "      <th>S4</th>\n",
       "      <th>C4</th>\n",
       "      <th>S5</th>\n",
       "      <th>C5</th>\n",
       "      <th>Y</th>\n",
       "    </tr>\n",
       "  </thead>\n",
       "  <tbody>\n",
       "    <tr>\n",
       "      <th>0</th>\n",
       "      <td>1</td>\n",
       "      <td>1</td>\n",
       "      <td>1</td>\n",
       "      <td>13</td>\n",
       "      <td>2</td>\n",
       "      <td>4</td>\n",
       "      <td>2</td>\n",
       "      <td>3</td>\n",
       "      <td>1</td>\n",
       "      <td>12</td>\n",
       "      <td>0</td>\n",
       "    </tr>\n",
       "    <tr>\n",
       "      <th>1</th>\n",
       "      <td>3</td>\n",
       "      <td>12</td>\n",
       "      <td>3</td>\n",
       "      <td>2</td>\n",
       "      <td>3</td>\n",
       "      <td>11</td>\n",
       "      <td>4</td>\n",
       "      <td>5</td>\n",
       "      <td>2</td>\n",
       "      <td>5</td>\n",
       "      <td>1</td>\n",
       "    </tr>\n",
       "    <tr>\n",
       "      <th>2</th>\n",
       "      <td>1</td>\n",
       "      <td>9</td>\n",
       "      <td>4</td>\n",
       "      <td>6</td>\n",
       "      <td>1</td>\n",
       "      <td>4</td>\n",
       "      <td>3</td>\n",
       "      <td>2</td>\n",
       "      <td>3</td>\n",
       "      <td>9</td>\n",
       "      <td>1</td>\n",
       "    </tr>\n",
       "    <tr>\n",
       "      <th>3</th>\n",
       "      <td>1</td>\n",
       "      <td>4</td>\n",
       "      <td>3</td>\n",
       "      <td>13</td>\n",
       "      <td>2</td>\n",
       "      <td>13</td>\n",
       "      <td>2</td>\n",
       "      <td>1</td>\n",
       "      <td>3</td>\n",
       "      <td>6</td>\n",
       "      <td>1</td>\n",
       "    </tr>\n",
       "    <tr>\n",
       "      <th>4</th>\n",
       "      <td>3</td>\n",
       "      <td>10</td>\n",
       "      <td>2</td>\n",
       "      <td>7</td>\n",
       "      <td>1</td>\n",
       "      <td>2</td>\n",
       "      <td>2</td>\n",
       "      <td>11</td>\n",
       "      <td>4</td>\n",
       "      <td>9</td>\n",
       "      <td>0</td>\n",
       "    </tr>\n",
       "  </tbody>\n",
       "</table>\n",
       "</div>"
      ],
      "text/plain": [
       "   S1  C1  S2  C2  S3  C3  S4  C4  S5  C5  Y\n",
       "0   1   1   1  13   2   4   2   3   1  12  0\n",
       "1   3  12   3   2   3  11   4   5   2   5  1\n",
       "2   1   9   4   6   1   4   3   2   3   9  1\n",
       "3   1   4   3  13   2  13   2   1   3   6  1\n",
       "4   3  10   2   7   1   2   2  11   4   9  0"
      ]
     },
     "execution_count": 4,
     "metadata": {},
     "output_type": "execute_result"
    }
   ],
   "source": [
    "# Importation des données de test\n",
    "column = [\"S1\",\"C1\",\"S2\",\"C2\",\"S3\",\"C3\",\"S4\",\"C4\",\"S5\",\"C5\",\"Y\"]\n",
    "df_poker_hand_test = pd.read_csv('poker-hand-testing.data.txt',names=column)\n",
    "df_poker_hand_test.head()"
   ]
  },
  {
   "cell_type": "code",
   "execution_count": 5,
   "metadata": {
    "scrolled": true
   },
   "outputs": [
    {
     "data": {
      "text/html": [
       "<div>\n",
       "<style scoped>\n",
       "    .dataframe tbody tr th:only-of-type {\n",
       "        vertical-align: middle;\n",
       "    }\n",
       "\n",
       "    .dataframe tbody tr th {\n",
       "        vertical-align: top;\n",
       "    }\n",
       "\n",
       "    .dataframe thead th {\n",
       "        text-align: right;\n",
       "    }\n",
       "</style>\n",
       "<table border=\"1\" class=\"dataframe\">\n",
       "  <thead>\n",
       "    <tr style=\"text-align: right;\">\n",
       "      <th></th>\n",
       "      <th>S1</th>\n",
       "      <th>C1</th>\n",
       "      <th>S2</th>\n",
       "      <th>C2</th>\n",
       "      <th>S3</th>\n",
       "      <th>C3</th>\n",
       "      <th>S4</th>\n",
       "      <th>C4</th>\n",
       "      <th>S5</th>\n",
       "      <th>C5</th>\n",
       "      <th>Y</th>\n",
       "    </tr>\n",
       "  </thead>\n",
       "  <tbody>\n",
       "    <tr>\n",
       "      <th>count</th>\n",
       "      <td>1000000.000000</td>\n",
       "      <td>1000000.000000</td>\n",
       "      <td>1000000.000000</td>\n",
       "      <td>1000000.000000</td>\n",
       "      <td>1000000.000000</td>\n",
       "      <td>1000000.000000</td>\n",
       "      <td>1000000.000000</td>\n",
       "      <td>1000000.000000</td>\n",
       "      <td>1000000.000000</td>\n",
       "      <td>1000000.000000</td>\n",
       "      <td>1000000.000000</td>\n",
       "    </tr>\n",
       "    <tr>\n",
       "      <th>mean</th>\n",
       "      <td>2.500493</td>\n",
       "      <td>6.997927</td>\n",
       "      <td>2.499894</td>\n",
       "      <td>7.006097</td>\n",
       "      <td>2.500871</td>\n",
       "      <td>6.998873</td>\n",
       "      <td>2.500393</td>\n",
       "      <td>7.002298</td>\n",
       "      <td>2.499451</td>\n",
       "      <td>6.989481</td>\n",
       "      <td>0.616902</td>\n",
       "    </tr>\n",
       "    <tr>\n",
       "      <th>std</th>\n",
       "      <td>1.117768</td>\n",
       "      <td>3.743374</td>\n",
       "      <td>1.118568</td>\n",
       "      <td>3.743481</td>\n",
       "      <td>1.118225</td>\n",
       "      <td>3.741890</td>\n",
       "      <td>1.117245</td>\n",
       "      <td>3.741270</td>\n",
       "      <td>1.118948</td>\n",
       "      <td>3.739894</td>\n",
       "      <td>0.773377</td>\n",
       "    </tr>\n",
       "    <tr>\n",
       "      <th>min</th>\n",
       "      <td>1.000000</td>\n",
       "      <td>1.000000</td>\n",
       "      <td>1.000000</td>\n",
       "      <td>1.000000</td>\n",
       "      <td>1.000000</td>\n",
       "      <td>1.000000</td>\n",
       "      <td>1.000000</td>\n",
       "      <td>1.000000</td>\n",
       "      <td>1.000000</td>\n",
       "      <td>1.000000</td>\n",
       "      <td>0.000000</td>\n",
       "    </tr>\n",
       "    <tr>\n",
       "      <th>25%</th>\n",
       "      <td>2.000000</td>\n",
       "      <td>4.000000</td>\n",
       "      <td>1.000000</td>\n",
       "      <td>4.000000</td>\n",
       "      <td>1.000000</td>\n",
       "      <td>4.000000</td>\n",
       "      <td>2.000000</td>\n",
       "      <td>4.000000</td>\n",
       "      <td>1.000000</td>\n",
       "      <td>4.000000</td>\n",
       "      <td>0.000000</td>\n",
       "    </tr>\n",
       "    <tr>\n",
       "      <th>50%</th>\n",
       "      <td>3.000000</td>\n",
       "      <td>7.000000</td>\n",
       "      <td>3.000000</td>\n",
       "      <td>7.000000</td>\n",
       "      <td>3.000000</td>\n",
       "      <td>7.000000</td>\n",
       "      <td>3.000000</td>\n",
       "      <td>7.000000</td>\n",
       "      <td>2.000000</td>\n",
       "      <td>7.000000</td>\n",
       "      <td>0.000000</td>\n",
       "    </tr>\n",
       "    <tr>\n",
       "      <th>75%</th>\n",
       "      <td>3.000000</td>\n",
       "      <td>10.000000</td>\n",
       "      <td>4.000000</td>\n",
       "      <td>10.000000</td>\n",
       "      <td>4.000000</td>\n",
       "      <td>10.000000</td>\n",
       "      <td>3.000000</td>\n",
       "      <td>10.000000</td>\n",
       "      <td>4.000000</td>\n",
       "      <td>10.000000</td>\n",
       "      <td>1.000000</td>\n",
       "    </tr>\n",
       "    <tr>\n",
       "      <th>max</th>\n",
       "      <td>4.000000</td>\n",
       "      <td>13.000000</td>\n",
       "      <td>4.000000</td>\n",
       "      <td>13.000000</td>\n",
       "      <td>4.000000</td>\n",
       "      <td>13.000000</td>\n",
       "      <td>4.000000</td>\n",
       "      <td>13.000000</td>\n",
       "      <td>4.000000</td>\n",
       "      <td>13.000000</td>\n",
       "      <td>9.000000</td>\n",
       "    </tr>\n",
       "  </tbody>\n",
       "</table>\n",
       "</div>"
      ],
      "text/plain": [
       "                   S1              C1              S2              C2  \\\n",
       "count  1000000.000000  1000000.000000  1000000.000000  1000000.000000   \n",
       "mean         2.500493        6.997927        2.499894        7.006097   \n",
       "std          1.117768        3.743374        1.118568        3.743481   \n",
       "min          1.000000        1.000000        1.000000        1.000000   \n",
       "25%          2.000000        4.000000        1.000000        4.000000   \n",
       "50%          3.000000        7.000000        3.000000        7.000000   \n",
       "75%          3.000000       10.000000        4.000000       10.000000   \n",
       "max          4.000000       13.000000        4.000000       13.000000   \n",
       "\n",
       "                   S3              C3              S4              C4  \\\n",
       "count  1000000.000000  1000000.000000  1000000.000000  1000000.000000   \n",
       "mean         2.500871        6.998873        2.500393        7.002298   \n",
       "std          1.118225        3.741890        1.117245        3.741270   \n",
       "min          1.000000        1.000000        1.000000        1.000000   \n",
       "25%          1.000000        4.000000        2.000000        4.000000   \n",
       "50%          3.000000        7.000000        3.000000        7.000000   \n",
       "75%          4.000000       10.000000        3.000000       10.000000   \n",
       "max          4.000000       13.000000        4.000000       13.000000   \n",
       "\n",
       "                   S5              C5               Y  \n",
       "count  1000000.000000  1000000.000000  1000000.000000  \n",
       "mean         2.499451        6.989481        0.616902  \n",
       "std          1.118948        3.739894        0.773377  \n",
       "min          1.000000        1.000000        0.000000  \n",
       "25%          1.000000        4.000000        0.000000  \n",
       "50%          2.000000        7.000000        0.000000  \n",
       "75%          4.000000       10.000000        1.000000  \n",
       "max          4.000000       13.000000        9.000000  "
      ]
     },
     "execution_count": 5,
     "metadata": {},
     "output_type": "execute_result"
    }
   ],
   "source": [
    "# Description des variables quantitatives\n",
    "df_poker_hand_test.describe()"
   ]
  },
  {
   "cell_type": "markdown",
   "metadata": {},
   "source": [
    "__La matrice de correlation nous permets d'observer qu'il n'y a quasiment pas de correlation entre nos différentes features, ce qui semble logique car les cartes n'ont aucun lien entre elles__"
   ]
  },
  {
   "cell_type": "code",
   "execution_count": 12,
   "metadata": {},
   "outputs": [
    {
     "data": {
      "text/html": [
       "<style  type=\"text/css\" >\n",
       "    #T_6665bd98_3042_11e9_8387_921517c336e5row0_col0 {\n",
       "            background-color:  #023858;\n",
       "        }    #T_6665bd98_3042_11e9_8387_921517c336e5row0_col1 {\n",
       "            background-color:  #fdf5fa;\n",
       "        }    #T_6665bd98_3042_11e9_8387_921517c336e5row0_col2 {\n",
       "            background-color:  #fef6fa;\n",
       "        }    #T_6665bd98_3042_11e9_8387_921517c336e5row0_col3 {\n",
       "            background-color:  #faf3f9;\n",
       "        }    #T_6665bd98_3042_11e9_8387_921517c336e5row0_col4 {\n",
       "            background-color:  #fef6fa;\n",
       "        }    #T_6665bd98_3042_11e9_8387_921517c336e5row0_col5 {\n",
       "            background-color:  #fdf5fa;\n",
       "        }    #T_6665bd98_3042_11e9_8387_921517c336e5row0_col6 {\n",
       "            background-color:  #fff7fb;\n",
       "        }    #T_6665bd98_3042_11e9_8387_921517c336e5row0_col7 {\n",
       "            background-color:  #fcf4fa;\n",
       "        }    #T_6665bd98_3042_11e9_8387_921517c336e5row0_col8 {\n",
       "            background-color:  #fef6fb;\n",
       "        }    #T_6665bd98_3042_11e9_8387_921517c336e5row0_col9 {\n",
       "            background-color:  #fcf4fa;\n",
       "        }    #T_6665bd98_3042_11e9_8387_921517c336e5row0_col10 {\n",
       "            background-color:  #fdf5fa;\n",
       "        }    #T_6665bd98_3042_11e9_8387_921517c336e5row1_col0 {\n",
       "            background-color:  #fdf5fa;\n",
       "        }    #T_6665bd98_3042_11e9_8387_921517c336e5row1_col1 {\n",
       "            background-color:  #023858;\n",
       "        }    #T_6665bd98_3042_11e9_8387_921517c336e5row1_col2 {\n",
       "            background-color:  #faf3f9;\n",
       "        }    #T_6665bd98_3042_11e9_8387_921517c336e5row1_col3 {\n",
       "            background-color:  #fdf5fa;\n",
       "        }    #T_6665bd98_3042_11e9_8387_921517c336e5row1_col4 {\n",
       "            background-color:  #fbf3f9;\n",
       "        }    #T_6665bd98_3042_11e9_8387_921517c336e5row1_col5 {\n",
       "            background-color:  #fff7fb;\n",
       "        }    #T_6665bd98_3042_11e9_8387_921517c336e5row1_col6 {\n",
       "            background-color:  #fbf4f9;\n",
       "        }    #T_6665bd98_3042_11e9_8387_921517c336e5row1_col7 {\n",
       "            background-color:  #fff7fb;\n",
       "        }    #T_6665bd98_3042_11e9_8387_921517c336e5row1_col8 {\n",
       "            background-color:  #faf3f9;\n",
       "        }    #T_6665bd98_3042_11e9_8387_921517c336e5row1_col9 {\n",
       "            background-color:  #fff7fb;\n",
       "        }    #T_6665bd98_3042_11e9_8387_921517c336e5row1_col10 {\n",
       "            background-color:  #fef6fa;\n",
       "        }    #T_6665bd98_3042_11e9_8387_921517c336e5row2_col0 {\n",
       "            background-color:  #fff7fb;\n",
       "        }    #T_6665bd98_3042_11e9_8387_921517c336e5row2_col1 {\n",
       "            background-color:  #fbf3f9;\n",
       "        }    #T_6665bd98_3042_11e9_8387_921517c336e5row2_col2 {\n",
       "            background-color:  #023858;\n",
       "        }    #T_6665bd98_3042_11e9_8387_921517c336e5row2_col3 {\n",
       "            background-color:  #fcf4fa;\n",
       "        }    #T_6665bd98_3042_11e9_8387_921517c336e5row2_col4 {\n",
       "            background-color:  #fff7fb;\n",
       "        }    #T_6665bd98_3042_11e9_8387_921517c336e5row2_col5 {\n",
       "            background-color:  #fcf4fa;\n",
       "        }    #T_6665bd98_3042_11e9_8387_921517c336e5row2_col6 {\n",
       "            background-color:  #fff7fb;\n",
       "        }    #T_6665bd98_3042_11e9_8387_921517c336e5row2_col7 {\n",
       "            background-color:  #fbf3f9;\n",
       "        }    #T_6665bd98_3042_11e9_8387_921517c336e5row2_col8 {\n",
       "            background-color:  #fdf5fa;\n",
       "        }    #T_6665bd98_3042_11e9_8387_921517c336e5row2_col9 {\n",
       "            background-color:  #fcf4fa;\n",
       "        }    #T_6665bd98_3042_11e9_8387_921517c336e5row2_col10 {\n",
       "            background-color:  #fef6fb;\n",
       "        }    #T_6665bd98_3042_11e9_8387_921517c336e5row3_col0 {\n",
       "            background-color:  #faf3f9;\n",
       "        }    #T_6665bd98_3042_11e9_8387_921517c336e5row3_col1 {\n",
       "            background-color:  #fdf5fa;\n",
       "        }    #T_6665bd98_3042_11e9_8387_921517c336e5row3_col2 {\n",
       "            background-color:  #fbf4f9;\n",
       "        }    #T_6665bd98_3042_11e9_8387_921517c336e5row3_col3 {\n",
       "            background-color:  #023858;\n",
       "        }    #T_6665bd98_3042_11e9_8387_921517c336e5row3_col4 {\n",
       "            background-color:  #fbf4f9;\n",
       "        }    #T_6665bd98_3042_11e9_8387_921517c336e5row3_col5 {\n",
       "            background-color:  #fff7fb;\n",
       "        }    #T_6665bd98_3042_11e9_8387_921517c336e5row3_col6 {\n",
       "            background-color:  #fdf5fa;\n",
       "        }    #T_6665bd98_3042_11e9_8387_921517c336e5row3_col7 {\n",
       "            background-color:  #fff7fb;\n",
       "        }    #T_6665bd98_3042_11e9_8387_921517c336e5row3_col8 {\n",
       "            background-color:  #fbf3f9;\n",
       "        }    #T_6665bd98_3042_11e9_8387_921517c336e5row3_col9 {\n",
       "            background-color:  #fff7fb;\n",
       "        }    #T_6665bd98_3042_11e9_8387_921517c336e5row3_col10 {\n",
       "            background-color:  #fff7fb;\n",
       "        }    #T_6665bd98_3042_11e9_8387_921517c336e5row4_col0 {\n",
       "            background-color:  #fef6fb;\n",
       "        }    #T_6665bd98_3042_11e9_8387_921517c336e5row4_col1 {\n",
       "            background-color:  #fbf4f9;\n",
       "        }    #T_6665bd98_3042_11e9_8387_921517c336e5row4_col2 {\n",
       "            background-color:  #fff7fb;\n",
       "        }    #T_6665bd98_3042_11e9_8387_921517c336e5row4_col3 {\n",
       "            background-color:  #fdf5fa;\n",
       "        }    #T_6665bd98_3042_11e9_8387_921517c336e5row4_col4 {\n",
       "            background-color:  #023858;\n",
       "        }    #T_6665bd98_3042_11e9_8387_921517c336e5row4_col5 {\n",
       "            background-color:  #f8f1f8;\n",
       "        }    #T_6665bd98_3042_11e9_8387_921517c336e5row4_col6 {\n",
       "            background-color:  #fef6fb;\n",
       "        }    #T_6665bd98_3042_11e9_8387_921517c336e5row4_col7 {\n",
       "            background-color:  #fdf5fa;\n",
       "        }    #T_6665bd98_3042_11e9_8387_921517c336e5row4_col8 {\n",
       "            background-color:  #fff7fb;\n",
       "        }    #T_6665bd98_3042_11e9_8387_921517c336e5row4_col9 {\n",
       "            background-color:  #fdf5fa;\n",
       "        }    #T_6665bd98_3042_11e9_8387_921517c336e5row4_col10 {\n",
       "            background-color:  #fef6fa;\n",
       "        }    #T_6665bd98_3042_11e9_8387_921517c336e5row5_col0 {\n",
       "            background-color:  #fdf5fa;\n",
       "        }    #T_6665bd98_3042_11e9_8387_921517c336e5row5_col1 {\n",
       "            background-color:  #fff7fb;\n",
       "        }    #T_6665bd98_3042_11e9_8387_921517c336e5row5_col2 {\n",
       "            background-color:  #fcf4fa;\n",
       "        }    #T_6665bd98_3042_11e9_8387_921517c336e5row5_col3 {\n",
       "            background-color:  #fff7fb;\n",
       "        }    #T_6665bd98_3042_11e9_8387_921517c336e5row5_col4 {\n",
       "            background-color:  #f8f1f8;\n",
       "        }    #T_6665bd98_3042_11e9_8387_921517c336e5row5_col5 {\n",
       "            background-color:  #023858;\n",
       "        }    #T_6665bd98_3042_11e9_8387_921517c336e5row5_col6 {\n",
       "            background-color:  #fdf5fa;\n",
       "        }    #T_6665bd98_3042_11e9_8387_921517c336e5row5_col7 {\n",
       "            background-color:  #fff7fb;\n",
       "        }    #T_6665bd98_3042_11e9_8387_921517c336e5row5_col8 {\n",
       "            background-color:  #faf3f9;\n",
       "        }    #T_6665bd98_3042_11e9_8387_921517c336e5row5_col9 {\n",
       "            background-color:  #fef6fb;\n",
       "        }    #T_6665bd98_3042_11e9_8387_921517c336e5row5_col10 {\n",
       "            background-color:  #fff7fb;\n",
       "        }    #T_6665bd98_3042_11e9_8387_921517c336e5row6_col0 {\n",
       "            background-color:  #fef6fb;\n",
       "        }    #T_6665bd98_3042_11e9_8387_921517c336e5row6_col1 {\n",
       "            background-color:  #fbf3f9;\n",
       "        }    #T_6665bd98_3042_11e9_8387_921517c336e5row6_col2 {\n",
       "            background-color:  #fef6fa;\n",
       "        }    #T_6665bd98_3042_11e9_8387_921517c336e5row6_col3 {\n",
       "            background-color:  #fdf5fa;\n",
       "        }    #T_6665bd98_3042_11e9_8387_921517c336e5row6_col4 {\n",
       "            background-color:  #fdf5fa;\n",
       "        }    #T_6665bd98_3042_11e9_8387_921517c336e5row6_col5 {\n",
       "            background-color:  #fcf4fa;\n",
       "        }    #T_6665bd98_3042_11e9_8387_921517c336e5row6_col6 {\n",
       "            background-color:  #023858;\n",
       "        }    #T_6665bd98_3042_11e9_8387_921517c336e5row6_col7 {\n",
       "            background-color:  #fef6fb;\n",
       "        }    #T_6665bd98_3042_11e9_8387_921517c336e5row6_col8 {\n",
       "            background-color:  #fdf5fa;\n",
       "        }    #T_6665bd98_3042_11e9_8387_921517c336e5row6_col9 {\n",
       "            background-color:  #fcf4fa;\n",
       "        }    #T_6665bd98_3042_11e9_8387_921517c336e5row6_col10 {\n",
       "            background-color:  #fef6fb;\n",
       "        }    #T_6665bd98_3042_11e9_8387_921517c336e5row7_col0 {\n",
       "            background-color:  #fbf4f9;\n",
       "        }    #T_6665bd98_3042_11e9_8387_921517c336e5row7_col1 {\n",
       "            background-color:  #fef6fa;\n",
       "        }    #T_6665bd98_3042_11e9_8387_921517c336e5row7_col2 {\n",
       "            background-color:  #f9f2f8;\n",
       "        }    #T_6665bd98_3042_11e9_8387_921517c336e5row7_col3 {\n",
       "            background-color:  #fef6fa;\n",
       "        }    #T_6665bd98_3042_11e9_8387_921517c336e5row7_col4 {\n",
       "            background-color:  #fbf3f9;\n",
       "        }    #T_6665bd98_3042_11e9_8387_921517c336e5row7_col5 {\n",
       "            background-color:  #fef6fa;\n",
       "        }    #T_6665bd98_3042_11e9_8387_921517c336e5row7_col6 {\n",
       "            background-color:  #fdf5fa;\n",
       "        }    #T_6665bd98_3042_11e9_8387_921517c336e5row7_col7 {\n",
       "            background-color:  #023858;\n",
       "        }    #T_6665bd98_3042_11e9_8387_921517c336e5row7_col8 {\n",
       "            background-color:  #faf3f9;\n",
       "        }    #T_6665bd98_3042_11e9_8387_921517c336e5row7_col9 {\n",
       "            background-color:  #fff7fb;\n",
       "        }    #T_6665bd98_3042_11e9_8387_921517c336e5row7_col10 {\n",
       "            background-color:  #fdf5fa;\n",
       "        }    #T_6665bd98_3042_11e9_8387_921517c336e5row8_col0 {\n",
       "            background-color:  #fff7fb;\n",
       "        }    #T_6665bd98_3042_11e9_8387_921517c336e5row8_col1 {\n",
       "            background-color:  #fbf3f9;\n",
       "        }    #T_6665bd98_3042_11e9_8387_921517c336e5row8_col2 {\n",
       "            background-color:  #fdf5fa;\n",
       "        }    #T_6665bd98_3042_11e9_8387_921517c336e5row8_col3 {\n",
       "            background-color:  #fbf4f9;\n",
       "        }    #T_6665bd98_3042_11e9_8387_921517c336e5row8_col4 {\n",
       "            background-color:  #fff7fb;\n",
       "        }    #T_6665bd98_3042_11e9_8387_921517c336e5row8_col5 {\n",
       "            background-color:  #fbf3f9;\n",
       "        }    #T_6665bd98_3042_11e9_8387_921517c336e5row8_col6 {\n",
       "            background-color:  #fff7fb;\n",
       "        }    #T_6665bd98_3042_11e9_8387_921517c336e5row8_col7 {\n",
       "            background-color:  #fdf5fa;\n",
       "        }    #T_6665bd98_3042_11e9_8387_921517c336e5row8_col8 {\n",
       "            background-color:  #023858;\n",
       "        }    #T_6665bd98_3042_11e9_8387_921517c336e5row8_col9 {\n",
       "            background-color:  #fdf5fa;\n",
       "        }    #T_6665bd98_3042_11e9_8387_921517c336e5row8_col10 {\n",
       "            background-color:  #fff7fb;\n",
       "        }    #T_6665bd98_3042_11e9_8387_921517c336e5row9_col0 {\n",
       "            background-color:  #fbf3f9;\n",
       "        }    #T_6665bd98_3042_11e9_8387_921517c336e5row9_col1 {\n",
       "            background-color:  #fef6fa;\n",
       "        }    #T_6665bd98_3042_11e9_8387_921517c336e5row9_col2 {\n",
       "            background-color:  #faf3f9;\n",
       "        }    #T_6665bd98_3042_11e9_8387_921517c336e5row9_col3 {\n",
       "            background-color:  #fef6fa;\n",
       "        }    #T_6665bd98_3042_11e9_8387_921517c336e5row9_col4 {\n",
       "            background-color:  #fbf3f9;\n",
       "        }    #T_6665bd98_3042_11e9_8387_921517c336e5row9_col5 {\n",
       "            background-color:  #fdf5fa;\n",
       "        }    #T_6665bd98_3042_11e9_8387_921517c336e5row9_col6 {\n",
       "            background-color:  #fbf4f9;\n",
       "        }    #T_6665bd98_3042_11e9_8387_921517c336e5row9_col7 {\n",
       "            background-color:  #fff7fb;\n",
       "        }    #T_6665bd98_3042_11e9_8387_921517c336e5row9_col8 {\n",
       "            background-color:  #fbf4f9;\n",
       "        }    #T_6665bd98_3042_11e9_8387_921517c336e5row9_col9 {\n",
       "            background-color:  #023858;\n",
       "        }    #T_6665bd98_3042_11e9_8387_921517c336e5row9_col10 {\n",
       "            background-color:  #fff7fb;\n",
       "        }    #T_6665bd98_3042_11e9_8387_921517c336e5row10_col0 {\n",
       "            background-color:  #faf3f9;\n",
       "        }    #T_6665bd98_3042_11e9_8387_921517c336e5row10_col1 {\n",
       "            background-color:  #fbf3f9;\n",
       "        }    #T_6665bd98_3042_11e9_8387_921517c336e5row10_col2 {\n",
       "            background-color:  #fbf3f9;\n",
       "        }    #T_6665bd98_3042_11e9_8387_921517c336e5row10_col3 {\n",
       "            background-color:  #fdf5fa;\n",
       "        }    #T_6665bd98_3042_11e9_8387_921517c336e5row10_col4 {\n",
       "            background-color:  #faf3f9;\n",
       "        }    #T_6665bd98_3042_11e9_8387_921517c336e5row10_col5 {\n",
       "            background-color:  #fdf5fa;\n",
       "        }    #T_6665bd98_3042_11e9_8387_921517c336e5row10_col6 {\n",
       "            background-color:  #fdf5fa;\n",
       "        }    #T_6665bd98_3042_11e9_8387_921517c336e5row10_col7 {\n",
       "            background-color:  #fbf4f9;\n",
       "        }    #T_6665bd98_3042_11e9_8387_921517c336e5row10_col8 {\n",
       "            background-color:  #fbf4f9;\n",
       "        }    #T_6665bd98_3042_11e9_8387_921517c336e5row10_col9 {\n",
       "            background-color:  #fdf5fa;\n",
       "        }    #T_6665bd98_3042_11e9_8387_921517c336e5row10_col10 {\n",
       "            background-color:  #023858;\n",
       "        }</style>  \n",
       "<table id=\"T_6665bd98_3042_11e9_8387_921517c336e5\" > \n",
       "<thead>    <tr> \n",
       "        <th class=\"blank level0\" ></th> \n",
       "        <th class=\"col_heading level0 col0\" >S1</th> \n",
       "        <th class=\"col_heading level0 col1\" >C1</th> \n",
       "        <th class=\"col_heading level0 col2\" >S2</th> \n",
       "        <th class=\"col_heading level0 col3\" >C2</th> \n",
       "        <th class=\"col_heading level0 col4\" >S3</th> \n",
       "        <th class=\"col_heading level0 col5\" >C3</th> \n",
       "        <th class=\"col_heading level0 col6\" >S4</th> \n",
       "        <th class=\"col_heading level0 col7\" >C4</th> \n",
       "        <th class=\"col_heading level0 col8\" >S5</th> \n",
       "        <th class=\"col_heading level0 col9\" >C5</th> \n",
       "        <th class=\"col_heading level0 col10\" >Y</th> \n",
       "    </tr></thead> \n",
       "<tbody>    <tr> \n",
       "        <th id=\"T_6665bd98_3042_11e9_8387_921517c336e5level0_row0\" class=\"row_heading level0 row0\" >S1</th> \n",
       "        <td id=\"T_6665bd98_3042_11e9_8387_921517c336e5row0_col0\" class=\"data row0 col0\" >1</td> \n",
       "        <td id=\"T_6665bd98_3042_11e9_8387_921517c336e5row0_col1\" class=\"data row0 col1\" >-0.01</td> \n",
       "        <td id=\"T_6665bd98_3042_11e9_8387_921517c336e5row0_col2\" class=\"data row0 col2\" >-0.021</td> \n",
       "        <td id=\"T_6665bd98_3042_11e9_8387_921517c336e5row0_col3\" class=\"data row0 col3\" >0.0082</td> \n",
       "        <td id=\"T_6665bd98_3042_11e9_8387_921517c336e5row0_col4\" class=\"data row0 col4\" >-0.02</td> \n",
       "        <td id=\"T_6665bd98_3042_11e9_8387_921517c336e5row0_col5\" class=\"data row0 col5\" >-0.0099</td> \n",
       "        <td id=\"T_6665bd98_3042_11e9_8387_921517c336e5row0_col6\" class=\"data row0 col6\" >-0.017</td> \n",
       "        <td id=\"T_6665bd98_3042_11e9_8387_921517c336e5row0_col7\" class=\"data row0 col7\" >0.0038</td> \n",
       "        <td id=\"T_6665bd98_3042_11e9_8387_921517c336e5row0_col8\" class=\"data row0 col8\" >-0.024</td> \n",
       "        <td id=\"T_6665bd98_3042_11e9_8387_921517c336e5row0_col9\" class=\"data row0 col9\" >0.0066</td> \n",
       "        <td id=\"T_6665bd98_3042_11e9_8387_921517c336e5row0_col10\" class=\"data row0 col10\" >0.0082</td> \n",
       "    </tr>    <tr> \n",
       "        <th id=\"T_6665bd98_3042_11e9_8387_921517c336e5level0_row1\" class=\"row_heading level0 row1\" >C1</th> \n",
       "        <td id=\"T_6665bd98_3042_11e9_8387_921517c336e5row1_col0\" class=\"data row1 col0\" >-0.01</td> \n",
       "        <td id=\"T_6665bd98_3042_11e9_8387_921517c336e5row1_col1\" class=\"data row1 col1\" >1</td> \n",
       "        <td id=\"T_6665bd98_3042_11e9_8387_921517c336e5row1_col2\" class=\"data row1 col2\" >0.0045</td> \n",
       "        <td id=\"T_6665bd98_3042_11e9_8387_921517c336e5row1_col3\" class=\"data row1 col3\" >-0.011</td> \n",
       "        <td id=\"T_6665bd98_3042_11e9_8387_921517c336e5row1_col4\" class=\"data row1 col4\" >-0.00038</td> \n",
       "        <td id=\"T_6665bd98_3042_11e9_8387_921517c336e5row1_col5\" class=\"data row1 col5\" >-0.026</td> \n",
       "        <td id=\"T_6665bd98_3042_11e9_8387_921517c336e5row1_col6\" class=\"data row1 col6\" >0.0041</td> \n",
       "        <td id=\"T_6665bd98_3042_11e9_8387_921517c336e5row1_col7\" class=\"data row1 col7\" >-0.014</td> \n",
       "        <td id=\"T_6665bd98_3042_11e9_8387_921517c336e5row1_col8\" class=\"data row1 col8\" >0.0049</td> \n",
       "        <td id=\"T_6665bd98_3042_11e9_8387_921517c336e5row1_col9\" class=\"data row1 col9\" >-0.017</td> \n",
       "        <td id=\"T_6665bd98_3042_11e9_8387_921517c336e5row1_col10\" class=\"data row1 col10\" >0.0023</td> \n",
       "    </tr>    <tr> \n",
       "        <th id=\"T_6665bd98_3042_11e9_8387_921517c336e5level0_row2\" class=\"row_heading level0 row2\" >S2</th> \n",
       "        <td id=\"T_6665bd98_3042_11e9_8387_921517c336e5row2_col0\" class=\"data row2 col0\" >-0.021</td> \n",
       "        <td id=\"T_6665bd98_3042_11e9_8387_921517c336e5row2_col1\" class=\"data row2 col1\" >0.0045</td> \n",
       "        <td id=\"T_6665bd98_3042_11e9_8387_921517c336e5row2_col2\" class=\"data row2 col2\" >1</td> \n",
       "        <td id=\"T_6665bd98_3042_11e9_8387_921517c336e5row2_col3\" class=\"data row2 col3\" >-0.0024</td> \n",
       "        <td id=\"T_6665bd98_3042_11e9_8387_921517c336e5row2_col4\" class=\"data row2 col4\" >-0.029</td> \n",
       "        <td id=\"T_6665bd98_3042_11e9_8387_921517c336e5row2_col5\" class=\"data row2 col5\" >-0.0053</td> \n",
       "        <td id=\"T_6665bd98_3042_11e9_8387_921517c336e5row2_col6\" class=\"data row2 col6\" >-0.021</td> \n",
       "        <td id=\"T_6665bd98_3042_11e9_8387_921517c336e5row2_col7\" class=\"data row2 col7\" >0.012</td> \n",
       "        <td id=\"T_6665bd98_3042_11e9_8387_921517c336e5row2_col8\" class=\"data row2 col8\" >-0.012</td> \n",
       "        <td id=\"T_6665bd98_3042_11e9_8387_921517c336e5row2_col9\" class=\"data row2 col9\" >0.0058</td> \n",
       "        <td id=\"T_6665bd98_3042_11e9_8387_921517c336e5row2_col10\" class=\"data row2 col10\" >-0.0011</td> \n",
       "    </tr>    <tr> \n",
       "        <th id=\"T_6665bd98_3042_11e9_8387_921517c336e5level0_row3\" class=\"row_heading level0 row3\" >C2</th> \n",
       "        <td id=\"T_6665bd98_3042_11e9_8387_921517c336e5row3_col0\" class=\"data row3 col0\" >0.0082</td> \n",
       "        <td id=\"T_6665bd98_3042_11e9_8387_921517c336e5row3_col1\" class=\"data row3 col1\" >-0.011</td> \n",
       "        <td id=\"T_6665bd98_3042_11e9_8387_921517c336e5row3_col2\" class=\"data row3 col2\" >-0.0024</td> \n",
       "        <td id=\"T_6665bd98_3042_11e9_8387_921517c336e5row3_col3\" class=\"data row3 col3\" >1</td> \n",
       "        <td id=\"T_6665bd98_3042_11e9_8387_921517c336e5row3_col4\" class=\"data row3 col4\" >-0.0054</td> \n",
       "        <td id=\"T_6665bd98_3042_11e9_8387_921517c336e5row3_col5\" class=\"data row3 col5\" >-0.025</td> \n",
       "        <td id=\"T_6665bd98_3042_11e9_8387_921517c336e5row3_col6\" class=\"data row3 col6\" >-0.0084</td> \n",
       "        <td id=\"T_6665bd98_3042_11e9_8387_921517c336e5row3_col7\" class=\"data row3 col7\" >-0.013</td> \n",
       "        <td id=\"T_6665bd98_3042_11e9_8387_921517c336e5row3_col8\" class=\"data row3 col8\" >0.00064</td> \n",
       "        <td id=\"T_6665bd98_3042_11e9_8387_921517c336e5row3_col9\" class=\"data row3 col9\" >-0.016</td> \n",
       "        <td id=\"T_6665bd98_3042_11e9_8387_921517c336e5row3_col10\" class=\"data row3 col10\" >-0.0052</td> \n",
       "    </tr>    <tr> \n",
       "        <th id=\"T_6665bd98_3042_11e9_8387_921517c336e5level0_row4\" class=\"row_heading level0 row4\" >S3</th> \n",
       "        <td id=\"T_6665bd98_3042_11e9_8387_921517c336e5row4_col0\" class=\"data row4 col0\" >-0.02</td> \n",
       "        <td id=\"T_6665bd98_3042_11e9_8387_921517c336e5row4_col1\" class=\"data row4 col1\" >-0.00038</td> \n",
       "        <td id=\"T_6665bd98_3042_11e9_8387_921517c336e5row4_col2\" class=\"data row4 col2\" >-0.029</td> \n",
       "        <td id=\"T_6665bd98_3042_11e9_8387_921517c336e5row4_col3\" class=\"data row4 col3\" >-0.0054</td> \n",
       "        <td id=\"T_6665bd98_3042_11e9_8387_921517c336e5row4_col4\" class=\"data row4 col4\" >1</td> \n",
       "        <td id=\"T_6665bd98_3042_11e9_8387_921517c336e5row4_col5\" class=\"data row4 col5\" >0.018</td> \n",
       "        <td id=\"T_6665bd98_3042_11e9_8387_921517c336e5row4_col6\" class=\"data row4 col6\" >-0.013</td> \n",
       "        <td id=\"T_6665bd98_3042_11e9_8387_921517c336e5row4_col7\" class=\"data row4 col7\" >0.0019</td> \n",
       "        <td id=\"T_6665bd98_3042_11e9_8387_921517c336e5row4_col8\" class=\"data row4 col8\" >-0.03</td> \n",
       "        <td id=\"T_6665bd98_3042_11e9_8387_921517c336e5row4_col9\" class=\"data row4 col9\" >-0.002</td> \n",
       "        <td id=\"T_6665bd98_3042_11e9_8387_921517c336e5row4_col10\" class=\"data row4 col10\" >0.004</td> \n",
       "    </tr>    <tr> \n",
       "        <th id=\"T_6665bd98_3042_11e9_8387_921517c336e5level0_row5\" class=\"row_heading level0 row5\" >C3</th> \n",
       "        <td id=\"T_6665bd98_3042_11e9_8387_921517c336e5row5_col0\" class=\"data row5 col0\" >-0.0099</td> \n",
       "        <td id=\"T_6665bd98_3042_11e9_8387_921517c336e5row5_col1\" class=\"data row5 col1\" >-0.026</td> \n",
       "        <td id=\"T_6665bd98_3042_11e9_8387_921517c336e5row5_col2\" class=\"data row5 col2\" >-0.0053</td> \n",
       "        <td id=\"T_6665bd98_3042_11e9_8387_921517c336e5row5_col3\" class=\"data row5 col3\" >-0.025</td> \n",
       "        <td id=\"T_6665bd98_3042_11e9_8387_921517c336e5row5_col4\" class=\"data row5 col4\" >0.018</td> \n",
       "        <td id=\"T_6665bd98_3042_11e9_8387_921517c336e5row5_col5\" class=\"data row5 col5\" >1</td> \n",
       "        <td id=\"T_6665bd98_3042_11e9_8387_921517c336e5row5_col6\" class=\"data row5 col6\" >-0.0032</td> \n",
       "        <td id=\"T_6665bd98_3042_11e9_8387_921517c336e5row5_col7\" class=\"data row5 col7\" >-0.016</td> \n",
       "        <td id=\"T_6665bd98_3042_11e9_8387_921517c336e5row5_col8\" class=\"data row5 col8\" >0.0037</td> \n",
       "        <td id=\"T_6665bd98_3042_11e9_8387_921517c336e5row5_col9\" class=\"data row5 col9\" >-0.011</td> \n",
       "        <td id=\"T_6665bd98_3042_11e9_8387_921517c336e5row5_col10\" class=\"data row5 col10\" >-0.0063</td> \n",
       "    </tr>    <tr> \n",
       "        <th id=\"T_6665bd98_3042_11e9_8387_921517c336e5level0_row6\" class=\"row_heading level0 row6\" >S4</th> \n",
       "        <td id=\"T_6665bd98_3042_11e9_8387_921517c336e5row6_col0\" class=\"data row6 col0\" >-0.017</td> \n",
       "        <td id=\"T_6665bd98_3042_11e9_8387_921517c336e5row6_col1\" class=\"data row6 col1\" >0.0041</td> \n",
       "        <td id=\"T_6665bd98_3042_11e9_8387_921517c336e5row6_col2\" class=\"data row6 col2\" >-0.021</td> \n",
       "        <td id=\"T_6665bd98_3042_11e9_8387_921517c336e5row6_col3\" class=\"data row6 col3\" >-0.0084</td> \n",
       "        <td id=\"T_6665bd98_3042_11e9_8387_921517c336e5row6_col4\" class=\"data row6 col4\" >-0.013</td> \n",
       "        <td id=\"T_6665bd98_3042_11e9_8387_921517c336e5row6_col5\" class=\"data row6 col5\" >-0.0032</td> \n",
       "        <td id=\"T_6665bd98_3042_11e9_8387_921517c336e5row6_col6\" class=\"data row6 col6\" >1</td> \n",
       "        <td id=\"T_6665bd98_3042_11e9_8387_921517c336e5row6_col7\" class=\"data row6 col7\" >-0.0087</td> \n",
       "        <td id=\"T_6665bd98_3042_11e9_8387_921517c336e5row6_col8\" class=\"data row6 col8\" >-0.018</td> \n",
       "        <td id=\"T_6665bd98_3042_11e9_8387_921517c336e5row6_col9\" class=\"data row6 col9\" >0.0053</td> \n",
       "        <td id=\"T_6665bd98_3042_11e9_8387_921517c336e5row6_col10\" class=\"data row6 col10\" >-0.0016</td> \n",
       "    </tr>    <tr> \n",
       "        <th id=\"T_6665bd98_3042_11e9_8387_921517c336e5level0_row7\" class=\"row_heading level0 row7\" >C4</th> \n",
       "        <td id=\"T_6665bd98_3042_11e9_8387_921517c336e5row7_col0\" class=\"data row7 col0\" >0.0038</td> \n",
       "        <td id=\"T_6665bd98_3042_11e9_8387_921517c336e5row7_col1\" class=\"data row7 col1\" >-0.014</td> \n",
       "        <td id=\"T_6665bd98_3042_11e9_8387_921517c336e5row7_col2\" class=\"data row7 col2\" >0.012</td> \n",
       "        <td id=\"T_6665bd98_3042_11e9_8387_921517c336e5row7_col3\" class=\"data row7 col3\" >-0.013</td> \n",
       "        <td id=\"T_6665bd98_3042_11e9_8387_921517c336e5row7_col4\" class=\"data row7 col4\" >0.0019</td> \n",
       "        <td id=\"T_6665bd98_3042_11e9_8387_921517c336e5row7_col5\" class=\"data row7 col5\" >-0.016</td> \n",
       "        <td id=\"T_6665bd98_3042_11e9_8387_921517c336e5row7_col6\" class=\"data row7 col6\" >-0.0087</td> \n",
       "        <td id=\"T_6665bd98_3042_11e9_8387_921517c336e5row7_col7\" class=\"data row7 col7\" >1</td> \n",
       "        <td id=\"T_6665bd98_3042_11e9_8387_921517c336e5row7_col8\" class=\"data row7 col8\" >0.0028</td> \n",
       "        <td id=\"T_6665bd98_3042_11e9_8387_921517c336e5row7_col9\" class=\"data row7 col9\" >-0.015</td> \n",
       "        <td id=\"T_6665bd98_3042_11e9_8387_921517c336e5row7_col10\" class=\"data row7 col10\" >0.01</td> \n",
       "    </tr>    <tr> \n",
       "        <th id=\"T_6665bd98_3042_11e9_8387_921517c336e5level0_row8\" class=\"row_heading level0 row8\" >S5</th> \n",
       "        <td id=\"T_6665bd98_3042_11e9_8387_921517c336e5row8_col0\" class=\"data row8 col0\" >-0.024</td> \n",
       "        <td id=\"T_6665bd98_3042_11e9_8387_921517c336e5row8_col1\" class=\"data row8 col1\" >0.0049</td> \n",
       "        <td id=\"T_6665bd98_3042_11e9_8387_921517c336e5row8_col2\" class=\"data row8 col2\" >-0.012</td> \n",
       "        <td id=\"T_6665bd98_3042_11e9_8387_921517c336e5row8_col3\" class=\"data row8 col3\" >0.00064</td> \n",
       "        <td id=\"T_6665bd98_3042_11e9_8387_921517c336e5row8_col4\" class=\"data row8 col4\" >-0.03</td> \n",
       "        <td id=\"T_6665bd98_3042_11e9_8387_921517c336e5row8_col5\" class=\"data row8 col5\" >0.0037</td> \n",
       "        <td id=\"T_6665bd98_3042_11e9_8387_921517c336e5row8_col6\" class=\"data row8 col6\" >-0.018</td> \n",
       "        <td id=\"T_6665bd98_3042_11e9_8387_921517c336e5row8_col7\" class=\"data row8 col7\" >0.0028</td> \n",
       "        <td id=\"T_6665bd98_3042_11e9_8387_921517c336e5row8_col8\" class=\"data row8 col8\" >1</td> \n",
       "        <td id=\"T_6665bd98_3042_11e9_8387_921517c336e5row8_col9\" class=\"data row8 col9\" >-0.0032</td> \n",
       "        <td id=\"T_6665bd98_3042_11e9_8387_921517c336e5row8_col10\" class=\"data row8 col10\" >-0.0056</td> \n",
       "    </tr>    <tr> \n",
       "        <th id=\"T_6665bd98_3042_11e9_8387_921517c336e5level0_row9\" class=\"row_heading level0 row9\" >C5</th> \n",
       "        <td id=\"T_6665bd98_3042_11e9_8387_921517c336e5row9_col0\" class=\"data row9 col0\" >0.0066</td> \n",
       "        <td id=\"T_6665bd98_3042_11e9_8387_921517c336e5row9_col1\" class=\"data row9 col1\" >-0.017</td> \n",
       "        <td id=\"T_6665bd98_3042_11e9_8387_921517c336e5row9_col2\" class=\"data row9 col2\" >0.0058</td> \n",
       "        <td id=\"T_6665bd98_3042_11e9_8387_921517c336e5row9_col3\" class=\"data row9 col3\" >-0.016</td> \n",
       "        <td id=\"T_6665bd98_3042_11e9_8387_921517c336e5row9_col4\" class=\"data row9 col4\" >-0.002</td> \n",
       "        <td id=\"T_6665bd98_3042_11e9_8387_921517c336e5row9_col5\" class=\"data row9 col5\" >-0.011</td> \n",
       "        <td id=\"T_6665bd98_3042_11e9_8387_921517c336e5row9_col6\" class=\"data row9 col6\" >0.0053</td> \n",
       "        <td id=\"T_6665bd98_3042_11e9_8387_921517c336e5row9_col7\" class=\"data row9 col7\" >-0.015</td> \n",
       "        <td id=\"T_6665bd98_3042_11e9_8387_921517c336e5row9_col8\" class=\"data row9 col8\" >-0.0032</td> \n",
       "        <td id=\"T_6665bd98_3042_11e9_8387_921517c336e5row9_col9\" class=\"data row9 col9\" >1</td> \n",
       "        <td id=\"T_6665bd98_3042_11e9_8387_921517c336e5row9_col10\" class=\"data row9 col10\" >-0.0024</td> \n",
       "    </tr>    <tr> \n",
       "        <th id=\"T_6665bd98_3042_11e9_8387_921517c336e5level0_row10\" class=\"row_heading level0 row10\" >Y</th> \n",
       "        <td id=\"T_6665bd98_3042_11e9_8387_921517c336e5row10_col0\" class=\"data row10 col0\" >0.0082</td> \n",
       "        <td id=\"T_6665bd98_3042_11e9_8387_921517c336e5row10_col1\" class=\"data row10 col1\" >0.0023</td> \n",
       "        <td id=\"T_6665bd98_3042_11e9_8387_921517c336e5row10_col2\" class=\"data row10 col2\" >-0.0011</td> \n",
       "        <td id=\"T_6665bd98_3042_11e9_8387_921517c336e5row10_col3\" class=\"data row10 col3\" >-0.0052</td> \n",
       "        <td id=\"T_6665bd98_3042_11e9_8387_921517c336e5row10_col4\" class=\"data row10 col4\" >0.004</td> \n",
       "        <td id=\"T_6665bd98_3042_11e9_8387_921517c336e5row10_col5\" class=\"data row10 col5\" >-0.0063</td> \n",
       "        <td id=\"T_6665bd98_3042_11e9_8387_921517c336e5row10_col6\" class=\"data row10 col6\" >-0.0016</td> \n",
       "        <td id=\"T_6665bd98_3042_11e9_8387_921517c336e5row10_col7\" class=\"data row10 col7\" >0.01</td> \n",
       "        <td id=\"T_6665bd98_3042_11e9_8387_921517c336e5row10_col8\" class=\"data row10 col8\" >-0.0056</td> \n",
       "        <td id=\"T_6665bd98_3042_11e9_8387_921517c336e5row10_col9\" class=\"data row10 col9\" >-0.0024</td> \n",
       "        <td id=\"T_6665bd98_3042_11e9_8387_921517c336e5row10_col10\" class=\"data row10 col10\" >1</td> \n",
       "    </tr></tbody> \n",
       "</table> "
      ],
      "text/plain": [
       "<pandas.io.formats.style.Styler at 0x2bf6962d710>"
      ]
     },
     "execution_count": 12,
     "metadata": {},
     "output_type": "execute_result"
    }
   ],
   "source": [
    "# Matrice de correlation\n",
    "corr = df_poker_hand_train.corr()\n",
    "corr.style.background_gradient().set_precision(2)"
   ]
  },
  {
   "cell_type": "markdown",
   "metadata": {},
   "source": [
    "__On remarque aussi qu'il n'y a pas non plus de correlation entre les features mais aussi que les données ne semblent pas liées linéairement__"
   ]
  },
  {
   "cell_type": "code",
   "execution_count": 7,
   "metadata": {
    "scrolled": false
   },
   "outputs": [
    {
     "data": {
      "image/png": "[encoded data removed]",
      "text/plain": [
       "<Figure size 1980x1980 with 132 Axes>"
      ]
     },
     "metadata": {
      "needs_background": "light"
     },
     "output_type": "display_data"
    }
   ],
   "source": [
    "# PairPlot\n",
    "pairplot = sns.pairplot(df_poker_hand_train)\n",
    "plt.show()"
   ]
  },
  {
   "cell_type": "markdown",
   "metadata": {},
   "source": [
    "### Distribution des données\n",
    "\n",
    "Point important car le dataset est jugé comme difficile de part son déséquilibre."
   ]
  },
  {
   "cell_type": "code",
   "execution_count": 8,
   "metadata": {
    "scrolled": false
   },
   "outputs": [
    {
     "name": "stdout",
     "output_type": "stream",
     "text": [
      "Distribution de la target sur Train\n",
      " 0    49.952019\n",
      "1    42.379048\n",
      "2     4.822071\n",
      "3     2.051180\n",
      "4     0.371851\n",
      "5     0.215914\n",
      "6     0.143942\n",
      "7     0.023990\n",
      "9     0.019992\n",
      "8     0.019992\n",
      "Name: Y, dtype: float64\n",
      "\n",
      "Distribution de la target sur Test\n",
      " 0    50.1209\n",
      "1    42.2498\n",
      "2     4.7622\n",
      "3     2.1121\n",
      "4     0.3885\n",
      "5     0.1996\n",
      "6     0.1424\n",
      "7     0.0230\n",
      "8     0.0012\n",
      "9     0.0003\n",
      "Name: Y, dtype: float64\n"
     ]
    }
   ],
   "source": [
    "print(\"Distribution de la target sur Train\\n\",df_poker_hand_train.Y.value_counts(normalize=True)*100),print()\n",
    "print(\"Distribution de la target sur Test\\n\",df_poker_hand_test.Y.value_counts(normalize=True)*100)"
   ]
  },
  {
   "cell_type": "code",
   "execution_count": 9,
   "metadata": {
    "scrolled": false
   },
   "outputs": [
    {
     "data": {
      "text/plain": [
       "Text(0,0.5,\"Nombres d'observations\")"
      ]
     },
     "execution_count": 9,
     "metadata": {},
     "output_type": "execute_result"
    },
    {
     "data": {
      "image/png": "[encoded data removed]",
      "text/plain": [
       "<Figure size 864x576 with 1 Axes>"
      ]
     },
     "metadata": {
      "needs_background": "light"
     },
     "output_type": "display_data"
    }
   ],
   "source": [
    "ax = df_poker_hand_train.Y.hist(grid=False, figsize=(12,8), color='Blue', zorder=2, rwidth=0.9)\n",
    "\n",
    "\n",
    "# Despine\n",
    "ax.spines['right'].set_visible(False)\n",
    "ax.spines['top'].set_visible(False)\n",
    "ax.spines['left'].set_visible(False)\n",
    "\n",
    "# Switch off ticks\n",
    "ax.tick_params(axis=\"both\", which=\"both\", bottom=False, top=False, labelbottom=True, left=False, right=False, labelleft=True)\n",
    "\n",
    "# Draw horizontal axis lines\n",
    "vals = ax.get_yticks()\n",
    "for tick in vals:\n",
    "    ax.axhline(y=tick, linestyle='dashed', alpha=0.4, color='#ffffff', zorder=1)\n",
    "\n",
    "ax.set_title(\"Distribution des Poker Hands dans le training set\",weight='bold', size=18)\n",
    "\n",
    "# Set x-axis label\n",
    "ax.set_xlabel(\"Target class (Main au Poker)\", labelpad=20, weight='bold', size=12)\n",
    "\n",
    "# Set y-axis label\n",
    "ax.set_ylabel(\"Nombres d'observations\", labelpad=20, weight='bold', size=12)"
   ]
  },
  {
   "cell_type": "code",
   "execution_count": 10,
   "metadata": {},
   "outputs": [
    {
     "data": {
      "text/plain": [
       "Text(0,0.5,\"Nombres d'observations\")"
      ]
     },
     "execution_count": 10,
     "metadata": {},
     "output_type": "execute_result"
    },
    {
     "data": {
      "image/png": "[encoded data removed]",
      "text/plain": [
       "<Figure size 864x576 with 1 Axes>"
      ]
     },
     "metadata": {
      "needs_background": "light"
     },
     "output_type": "display_data"
    }
   ],
   "source": [
    "ax = df_poker_hand_test.Y.hist(grid=False, figsize=(12,8), color='Blue', zorder=2, rwidth=0.9)\n",
    "\n",
    "\n",
    "# Despine\n",
    "ax.spines['right'].set_visible(False)\n",
    "ax.spines['top'].set_visible(False)\n",
    "ax.spines['left'].set_visible(False)\n",
    "\n",
    "# Switch off ticks\n",
    "ax.tick_params(axis=\"both\", which=\"both\", bottom=False, top=False, labelbottom=True, left=False, right=False, labelleft=True)\n",
    "\n",
    "# Draw horizontal axis lines\n",
    "vals = ax.get_yticks()\n",
    "for tick in vals:\n",
    "    ax.axhline(y=tick, linestyle='dashed', alpha=0.4, color='#ffffff', zorder=1)\n",
    "\n",
    "# Remove title\n",
    "ax.set_title(\"Distribution des Poker Hands dans le testing set\",weight='bold', size=18)\n",
    "\n",
    "# Set x-axis label\n",
    "ax.set_xlabel(\"Target class (Main au Poker)\", labelpad=20, weight='bold', size=12)\n",
    "\n",
    "# Set y-axis label\n",
    "ax.set_ylabel(\"Nombres d'observations\", labelpad=20, weight='bold', size=12)"
   ]
  },
  {
   "cell_type": "markdown",
   "metadata": {},
   "source": [
    "__On remarque que la distribution des targets sur le jeu de train sont sensiblement similaires aux probabilités d'apparitions des mains dans le poker avec un jeu de 52 cartes.__\n",
    "\n",
    "__Les classes 4, 5, 6, 7, 8, 9 représentent  moins de 1% (0.7953%) des données du dataset de train.__\n",
    "\n",
    "__Je présume donc, qu'étant donnée la faible quantité d'observations dans le jeu de train (25 010 lignes) par rapport au jeu de test (1 000 000 lignes) et avec ce type de distribution le modèle risque de très mal se comporter sur les mains les plus rares.__"
   ]
  },
  {
   "cell_type": "markdown",
   "metadata": {},
   "source": [
    "![title](img/poker_proba.png)"
   ]
  },
  {
   "cell_type": "markdown",
   "metadata": {},
   "source": [
    "## Data Preparation"
   ]
  },
  {
   "cell_type": "code",
   "execution_count": 11,
   "metadata": {},
   "outputs": [
    {
     "name": "stdout",
     "output_type": "stream",
     "text": [
      "(25010, 10)\n",
      "(25010,)\n",
      "(1000000, 10)\n",
      "(1000000,)\n"
     ]
    }
   ],
   "source": [
    "# On sépare la target de notre jeu de données d'entrainement \n",
    "df_train_X = df_poker_hand_train[df_poker_hand_train.columns[:-1]]\n",
    "df_train_y = df_poker_hand_train[df_poker_hand_train.columns[-1]]\n",
    "print(df_train_X.shape)\n",
    "print(df_train_y.shape)\n",
    "\n",
    "# On sépare la target de notre jeu de données de test\n",
    "df_test_X = df_poker_hand_test[df_poker_hand_test.columns[:-1]]\n",
    "df_test_y = df_poker_hand_test[df_poker_hand_test.columns[-1]]\n",
    "\n",
    "print(df_test_X.shape)\n",
    "print(df_test_y.shape)"
   ]
  },
  {
   "cell_type": "code",
   "execution_count": 13,
   "metadata": {},
   "outputs": [
    {
     "name": "stderr",
     "output_type": "stream",
     "text": [
      "C:\\Users\\arthu\\Anaconda2\\envs\\ML_A5\\lib\\site-packages\\sklearn\\preprocessing\\_encoders.py:363: FutureWarning: The handling of integer data will change in version 0.22. Currently, the categories are determined based on the range [0, max(values)], while in the future they will be determined based on the unique values.\n",
      "If you want the future behaviour and silence this warning, you can specify \"categories='auto'\".\n",
      "In case you used a LabelEncoder before this OneHotEncoder to convert the categories to integers, then you can now use the OneHotEncoder directly.\n",
      "  warnings.warn(msg, FutureWarning)\n"
     ]
    }
   ],
   "source": [
    "# On dummify les modalitées de nos variables car on veut représenter chaque attributs de chaque carte comme une catégorie\n",
    "encoder_df = OneHotEncoder(sparse=False)\n",
    "df_train_X_dum = encoder_df.fit_transform(df_train_X)\n",
    "df_test_X_dum = encoder_df.transform(df_test_X)"
   ]
  },
  {
   "cell_type": "code",
   "execution_count": 13,
   "metadata": {
    "scrolled": true
   },
   "outputs": [
    {
     "name": "stdout",
     "output_type": "stream",
     "text": [
      "(25010, 85)\n",
      "(1000000, 85)\n"
     ]
    }
   ],
   "source": [
    "# On repasse en dataframe pour plus de simplicité et de clarté \n",
    "df_train_X_dum = pd.DataFrame(df_train_X_dum)\n",
    "print(df_train_X_dum.shape)\n",
    "df_test_X_dum = pd.DataFrame(df_test_X_dum)\n",
    "print(df_test_X_dum.shape)"
   ]
  },
  {
   "cell_type": "markdown",
   "metadata": {},
   "source": [
    "__Création de prédictions naives, dans le cas ou l'on prédit tout à 0, afin de pouvoir juger la pertinence des autres modèles__"
   ]
  },
  {
   "cell_type": "code",
   "execution_count": 14,
   "metadata": {},
   "outputs": [],
   "source": [
    "df_poker_hand_test[\"prediction_naive\"] = 0 # Classe la plus représenté dans le jeu de train\n",
    "score_naive_model = accuracy_score(df_poker_hand_test['Y'],df_poker_hand_test['prediction_naive'])*100"
   ]
  },
  {
   "cell_type": "code",
   "execution_count": 15,
   "metadata": {},
   "outputs": [
    {
     "name": "stdout",
     "output_type": "stream",
     "text": [
      "Accuracy modèle naif : 50.12%\n"
     ]
    }
   ],
   "source": [
    "print('Accuracy modèle naif : {:.2f}%'.format(score_naive_model))"
   ]
  },
  {
   "cell_type": "code",
   "execution_count": 16,
   "metadata": {},
   "outputs": [],
   "source": [
    "#del df_poker_hand_test,df_poker_hand_train"
   ]
  },
  {
   "cell_type": "markdown",
   "metadata": {},
   "source": [
    "## Modélisation"
   ]
  },
  {
   "cell_type": "markdown",
   "metadata": {},
   "source": [
    "### Baseline modèle - Random Forest\n",
    "\n",
    "On atteint 60,28% d'accuracy sur notre modèle de baseline avec les hyperparamètres en mode défaut. Ce qui est plutot correcte par rapport au modèle naif.\n",
    "\n",
    "On remarque, cependant, que le modèle n'est pas capable de prédire les classes les plus rares (7, 8, 9). Ce qui rejoins notre hypothèse de départ."
   ]
  },
  {
   "cell_type": "code",
   "execution_count": 18,
   "metadata": {},
   "outputs": [
    {
     "name": "stderr",
     "output_type": "stream",
     "text": [
      "C:\\Users\\arthu\\Anaconda2\\envs\\ML_A5\\lib\\site-packages\\sklearn\\ensemble\\forest.py:248: FutureWarning: The default value of n_estimators will change from 10 in version 0.20 to 100 in 0.22.\n",
      "  \"10 in version 0.20 to 100 in 0.22.\", FutureWarning)\n",
      "[Parallel(n_jobs=-1)]: Using backend ThreadingBackend with 4 concurrent workers.\n",
      "[Parallel(n_jobs=-1)]: Done  10 out of  10 | elapsed:    0.2s finished\n",
      "[Parallel(n_jobs=4)]: Using backend ThreadingBackend with 4 concurrent workers.\n",
      "[Parallel(n_jobs=4)]: Done  10 out of  10 | elapsed:    1.6s finished\n"
     ]
    },
    {
     "name": "stdout",
     "output_type": "stream",
     "text": [
      "Accuracy baseline modèle  : 60.2756%\n"
     ]
    }
   ],
   "source": [
    "clf_baseline = RandomForestClassifier(random_state=0, n_jobs=-1,verbose=1)\n",
    "clf_baseline.fit(df_train_X_dum,df_train_y)\n",
    "pred_baseline = clf_baseline.predict(df_test_X_dum)\n",
    "score_baseline = accuracy_score(df_test_y,pred_baseline)*100\n",
    "print('Accuracy baseline modèle  : {:.4f}%'.format(score_baseline))"
   ]
  },
  {
   "cell_type": "code",
   "execution_count": 19,
   "metadata": {},
   "outputs": [
    {
     "name": "stderr",
     "output_type": "stream",
     "text": [
      "C:\\Users\\arthu\\Anaconda2\\envs\\ML_A5\\lib\\site-packages\\sklearn\\metrics\\classification.py:1143: UndefinedMetricWarning: Precision and F-score are ill-defined and being set to 0.0 in labels with no predicted samples.\n",
      "  'precision', 'predicted', average, warn_for)\n",
      "C:\\Users\\arthu\\Anaconda2\\envs\\ML_A5\\lib\\site-packages\\sklearn\\metrics\\classification.py:1143: UndefinedMetricWarning: Precision and F-score are ill-defined and being set to 0.0 in labels with no predicted samples.\n",
      "  'precision', 'predicted', average, warn_for)\n"
     ]
    },
    {
     "name": "stdout",
     "output_type": "stream",
     "text": [
      "              precision    recall  f1-score   support\n",
      "\n",
      "           0       0.62      0.81      0.70    501209\n",
      "           1       0.57      0.47      0.51    422498\n",
      "           2       0.34      0.01      0.02     47622\n",
      "           3       0.67      0.01      0.02     21121\n",
      "           4       0.45      0.00      0.00      3885\n",
      "           5       0.80      0.00      0.01      1996\n",
      "           6       0.40      0.00      0.00      1424\n",
      "           7       0.00      0.00      0.00       230\n",
      "           8       0.00      0.00      0.00        12\n",
      "           9       0.00      0.00      0.00         3\n",
      "\n",
      "   micro avg       0.60      0.60      0.60   1000000\n",
      "   macro avg       0.39      0.13      0.13   1000000\n",
      "weighted avg       0.59      0.60      0.57   1000000\n",
      "\n"
     ]
    },
    {
     "name": "stderr",
     "output_type": "stream",
     "text": [
      "C:\\Users\\arthu\\Anaconda2\\envs\\ML_A5\\lib\\site-packages\\sklearn\\metrics\\classification.py:1143: UndefinedMetricWarning: Precision and F-score are ill-defined and being set to 0.0 in labels with no predicted samples.\n",
      "  'precision', 'predicted', average, warn_for)\n"
     ]
    }
   ],
   "source": [
    "print(classification_report(df_test_y,pred_baseline))"
   ]
  },
  {
   "cell_type": "markdown",
   "metadata": {},
   "source": [
    "### Random Search avec Cross Validation pour le paramétrage des hyperparamètres - Random Forest\n",
    "\n",
    "Utilisation d'un random search pour alléger le temps de calcul et orienter les paramètres d'un futur grid search.\n",
    "Dans l'idée d'une Bayesian Optimization mais pas le temps de l'implémenter."
   ]
  },
  {
   "cell_type": "code",
   "execution_count": 20,
   "metadata": {},
   "outputs": [
    {
     "name": "stdout",
     "output_type": "stream",
     "text": [
      "{'n_estimators': [100, 311, 522, 733, 944, 1155, 1366, 1577, 1788, 2000], 'max_features': ['auto', 'sqrt'], 'max_depth': [10, 20, 30, 40, 50, 60, 70, 80, 90, 100, 110, None], 'min_samples_split': [2, 5, 10], 'min_samples_leaf': [1, 2, 4], 'bootstrap': [True, False]}\n"
     ]
    }
   ],
   "source": [
    "# Nombre d'arbres \n",
    "n_estimators = [int(x) for x in np.linspace(start = 100, stop = 2000, num = 10)]\n",
    "# Nombre de features à considérer pour chaque split\n",
    "max_features = ['auto', 'sqrt']\n",
    "# Profondeur max\n",
    "max_depth = [int(x) for x in np.linspace(10, 110, num = 11)]\n",
    "max_depth.append(None)\n",
    "# Nombre minimum d'échantillons pour split sur un noeud\n",
    "min_samples_split = [2, 5, 10]\n",
    "# Le nombre minimum d'échantillons requis pour être sur un nœud finis\n",
    "min_samples_leaf = [1, 2, 4]\n",
    "# Méthode de selection des échantillons pour chaque arbres\n",
    "bootstrap = [True, False]\n",
    "\n",
    "random_grid = {'n_estimators': n_estimators,\n",
    "               'max_features': max_features,\n",
    "               'max_depth': max_depth,\n",
    "               'min_samples_split': min_samples_split,\n",
    "               'min_samples_leaf': min_samples_leaf,\n",
    "               'bootstrap': bootstrap}\n",
    "\n",
    "print(random_grid)"
   ]
  },
  {
   "cell_type": "code",
   "execution_count": 21,
   "metadata": {},
   "outputs": [],
   "source": [
    "# On optimise en fonction de l'accuracy\n",
    "rdm_clf_tune = RandomizedSearchCV(estimator=RandomForestClassifier(random_state=0), \n",
    "                                  param_distributions=random_grid,\n",
    "                                  n_iter = 100, scoring='accuracy', \n",
    "                                  cv = 3, verbose=2, random_state=0, n_jobs=-1,\n",
    "                                  return_train_score=True)\n"
   ]
  },
  {
   "cell_type": "code",
   "execution_count": 22,
   "metadata": {},
   "outputs": [
    {
     "name": "stdout",
     "output_type": "stream",
     "text": [
      "Fitting 3 folds for each of 100 candidates, totalling 300 fits\n"
     ]
    },
    {
     "name": "stderr",
     "output_type": "stream",
     "text": [
      "[Parallel(n_jobs=-1)]: Using backend LokyBackend with 4 concurrent workers.\n",
      "[Parallel(n_jobs=-1)]: Done  33 tasks      | elapsed:  9.4min\n",
      "[Parallel(n_jobs=-1)]: Done 154 tasks      | elapsed: 60.1min\n",
      "[Parallel(n_jobs=-1)]: Done 300 out of 300 | elapsed: 105.8min finished\n"
     ]
    },
    {
     "data": {
      "text/plain": [
       "RandomizedSearchCV(cv=3, error_score='raise-deprecating',\n",
       "          estimator=RandomForestClassifier(bootstrap=True, class_weight=None, criterion='gini',\n",
       "            max_depth=None, max_features='auto', max_leaf_nodes=None,\n",
       "            min_impurity_decrease=0.0, min_impurity_split=None,\n",
       "            min_samples_leaf=1, min_samples_split=2,\n",
       "            min_weight_fraction_leaf=0.0, n_estimators='warn', n_jobs=None,\n",
       "            oob_score=False, random_state=0, verbose=0, warm_start=False),\n",
       "          fit_params=None, iid='warn', n_iter=100, n_jobs=-1,\n",
       "          param_distributions={'n_estimators': [100, 311, 522, 733, 944, 1155, 1366, 1577, 1788, 2000], 'max_features': ['auto', 'sqrt'], 'max_depth': [10, 20, 30, 40, 50, 60, 70, 80, 90, 100, 110, None], 'min_samples_split': [2, 5, 10], 'min_samples_leaf': [1, 2, 4], 'bootstrap': [True, False]},\n",
       "          pre_dispatch='2*n_jobs', random_state=0, refit=True,\n",
       "          return_train_score=True, scoring='accuracy', verbose=2)"
      ]
     },
     "execution_count": 22,
     "metadata": {},
     "output_type": "execute_result"
    }
   ],
   "source": [
    "rdm_clf_tune.fit(df_train_X_dum,df_train_y)"
   ]
  },
  {
   "cell_type": "code",
   "execution_count": 23,
   "metadata": {
    "scrolled": true
   },
   "outputs": [
    {
     "data": {
      "text/plain": [
       "{'n_estimators': 1577,\n",
       " 'min_samples_split': 10,\n",
       " 'min_samples_leaf': 1,\n",
       " 'max_features': 'auto',\n",
       " 'max_depth': 50,\n",
       " 'bootstrap': False}"
      ]
     },
     "execution_count": 23,
     "metadata": {},
     "output_type": "execute_result"
    }
   ],
   "source": [
    "# Résultats des meilleurs paramètres après le random search\n",
    "rdm_clf_tune.best_params_"
   ]
  },
  {
   "cell_type": "markdown",
   "metadata": {},
   "source": [
    "### Best Random Search - Random Forest"
   ]
  },
  {
   "cell_type": "code",
   "execution_count": 25,
   "metadata": {},
   "outputs": [
    {
     "name": "stdout",
     "output_type": "stream",
     "text": [
      "Accuracy random forest avec hyperparam tuning  : 76.3933%\n"
     ]
    }
   ],
   "source": [
    "rdm_clf_best_random = rdm_clf_tune.best_estimator_\n",
    "pred_best_random = rdm_clf_best_random.predict(df_test_X_dum)\n",
    "score_best_random = accuracy_score(df_test_y,pred_best_random)*100\n",
    "print('Accuracy random forest avec hyperparam tuning  : {:.4f}%'.format(score_best_random))"
   ]
  },
  {
   "cell_type": "code",
   "execution_count": 26,
   "metadata": {
    "scrolled": true
   },
   "outputs": [
    {
     "name": "stdout",
     "output_type": "stream",
     "text": [
      "Amélioration du score de 26.7400%.\n"
     ]
    }
   ],
   "source": [
    "print('Amélioration du score de {:0.4f}%.'.format( 100 *(score_best_random - score_baseline) / score_baseline))"
   ]
  },
  {
   "cell_type": "markdown",
   "metadata": {},
   "source": [
    "__On remarque qu'on a amélioré notre accuracy par rapport à notre baseline modèle de 26.74%.__ \n",
    "\n",
    "__Cependant, on remarque aussi que le modèle est devenue plus précis sur les classes sur représenté tandis que pour les classes sous représentées il n'est plus capable de les prédire (s'explique par le fait qu'on a maximisé l'accuracy)__"
   ]
  },
  {
   "cell_type": "code",
   "execution_count": 27,
   "metadata": {
    "scrolled": false
   },
   "outputs": [
    {
     "name": "stderr",
     "output_type": "stream",
     "text": [
      "C:\\Users\\arthu\\Anaconda2\\envs\\ML_A5\\lib\\site-packages\\sklearn\\metrics\\classification.py:1143: UndefinedMetricWarning: Precision and F-score are ill-defined and being set to 0.0 in labels with no predicted samples.\n",
      "  'precision', 'predicted', average, warn_for)\n",
      "C:\\Users\\arthu\\Anaconda2\\envs\\ML_A5\\lib\\site-packages\\sklearn\\metrics\\classification.py:1143: UndefinedMetricWarning: Precision and F-score are ill-defined and being set to 0.0 in labels with no predicted samples.\n",
      "  'precision', 'predicted', average, warn_for)\n"
     ]
    },
    {
     "name": "stdout",
     "output_type": "stream",
     "text": [
      "              precision    recall  f1-score   support\n",
      "\n",
      "           0       0.76      0.98      0.86    501209\n",
      "           1       0.77      0.65      0.70    422498\n",
      "           2       1.00      0.00      0.00     47622\n",
      "           3       0.67      0.00      0.00     21121\n",
      "           4       0.00      0.00      0.00      3885\n",
      "           5       0.00      0.00      0.00      1996\n",
      "           6       0.00      0.00      0.00      1424\n",
      "           7       0.00      0.00      0.00       230\n",
      "           8       0.00      0.00      0.00        12\n",
      "           9       0.00      0.00      0.00         3\n",
      "\n",
      "   micro avg       0.76      0.76      0.76   1000000\n",
      "   macro avg       0.32      0.16      0.16   1000000\n",
      "weighted avg       0.77      0.76      0.73   1000000\n",
      "\n"
     ]
    },
    {
     "name": "stderr",
     "output_type": "stream",
     "text": [
      "C:\\Users\\arthu\\Anaconda2\\envs\\ML_A5\\lib\\site-packages\\sklearn\\metrics\\classification.py:1143: UndefinedMetricWarning: Precision and F-score are ill-defined and being set to 0.0 in labels with no predicted samples.\n",
      "  'precision', 'predicted', average, warn_for)\n"
     ]
    }
   ],
   "source": [
    "print(metrics.classification_report(df_test_y,pred_best_random))"
   ]
  },
  {
   "cell_type": "markdown",
   "metadata": {},
   "source": [
    "### Grid Search avec Cross Validation - Random Forest\n",
    "\n",
    "On essai d'être plus précis avec un Grid Search maintenant qu'on a une première idée du scope des hyperparamètres à optimiser"
   ]
  },
  {
   "cell_type": "code",
   "execution_count": 28,
   "metadata": {},
   "outputs": [],
   "source": [
    "# Grille d'hyperparamètres basé sur les résulatst du random search \n",
    "param_grid = {\n",
    "    'bootstrap': [False],\n",
    "    'max_depth': [50, 60, 70],\n",
    "    'max_features': ['auto'],\n",
    "    'min_samples_leaf': [1, 2],\n",
    "    'min_samples_split': [8, 10, 12],\n",
    "    'n_estimators': [200, 500, 700]\n",
    "}\n",
    "\n",
    "\n",
    "grid_search = GridSearchCV(estimator = RandomForestClassifier(random_state=0), param_grid = param_grid, \n",
    "                          cv = 3, n_jobs = -1, verbose = 2, return_train_score=True)"
   ]
  },
  {
   "cell_type": "code",
   "execution_count": 29,
   "metadata": {},
   "outputs": [
    {
     "name": "stdout",
     "output_type": "stream",
     "text": [
      "Fitting 3 folds for each of 54 candidates, totalling 162 fits\n"
     ]
    },
    {
     "name": "stderr",
     "output_type": "stream",
     "text": [
      "[Parallel(n_jobs=-1)]: Using backend LokyBackend with 4 concurrent workers.\n",
      "[Parallel(n_jobs=-1)]: Done  33 tasks      | elapsed:  5.5min\n",
      "[Parallel(n_jobs=-1)]: Done 154 tasks      | elapsed: 24.8min\n",
      "[Parallel(n_jobs=-1)]: Done 162 out of 162 | elapsed: 26.1min finished\n"
     ]
    }
   ],
   "source": [
    "grid_search.fit(df_train_X_dum, df_train_y);"
   ]
  },
  {
   "cell_type": "code",
   "execution_count": 30,
   "metadata": {
    "scrolled": true
   },
   "outputs": [
    {
     "data": {
      "text/plain": [
       "{'bootstrap': False,\n",
       " 'max_depth': 60,\n",
       " 'max_features': 'auto',\n",
       " 'min_samples_leaf': 1,\n",
       " 'min_samples_split': 10,\n",
       " 'n_estimators': 700}"
      ]
     },
     "execution_count": 30,
     "metadata": {},
     "output_type": "execute_result"
    }
   ],
   "source": [
    "# Résultats des meilleurs paramètres après le grid search\n",
    "grid_search.best_params_"
   ]
  },
  {
   "cell_type": "markdown",
   "metadata": {},
   "source": [
    "### Best Grid Search - Random Forest"
   ]
  },
  {
   "cell_type": "code",
   "execution_count": 31,
   "metadata": {},
   "outputs": [
    {
     "name": "stdout",
     "output_type": "stream",
     "text": [
      "Accuracy random forest avec hyperparam tuning  : 76.4501%\n"
     ]
    }
   ],
   "source": [
    "rdm_clf_best_grid = grid_search.best_estimator_\n",
    "pred_best_grid = rdm_clf_best_grid.predict(df_test_X_dum)\n",
    "score_best_grid = accuracy_score(df_test_y,pred_best_grid)*100\n",
    "print('Accuracy random forest avec hyperparam tuning  : {:.4f}%'.format(score_best_grid))"
   ]
  },
  {
   "cell_type": "code",
   "execution_count": 32,
   "metadata": {
    "scrolled": true
   },
   "outputs": [
    {
     "name": "stderr",
     "output_type": "stream",
     "text": [
      "C:\\Users\\arthu\\Anaconda2\\envs\\ML_A5\\lib\\site-packages\\sklearn\\metrics\\classification.py:1143: UndefinedMetricWarning: Precision and F-score are ill-defined and being set to 0.0 in labels with no predicted samples.\n",
      "  'precision', 'predicted', average, warn_for)\n",
      "C:\\Users\\arthu\\Anaconda2\\envs\\ML_A5\\lib\\site-packages\\sklearn\\metrics\\classification.py:1143: UndefinedMetricWarning: Precision and F-score are ill-defined and being set to 0.0 in labels with no predicted samples.\n",
      "  'precision', 'predicted', average, warn_for)\n"
     ]
    },
    {
     "name": "stdout",
     "output_type": "stream",
     "text": [
      "              precision    recall  f1-score   support\n",
      "\n",
      "           0       0.76      0.98      0.86    501209\n",
      "           1       0.77      0.65      0.71    422498\n",
      "           2       1.00      0.00      0.00     47622\n",
      "           3       0.50      0.00      0.00     21121\n",
      "           4       0.00      0.00      0.00      3885\n",
      "           5       0.00      0.00      0.00      1996\n",
      "           6       0.00      0.00      0.00      1424\n",
      "           7       0.00      0.00      0.00       230\n",
      "           8       0.00      0.00      0.00        12\n",
      "           9       0.00      0.00      0.00         3\n",
      "\n",
      "   micro avg       0.76      0.76      0.76   1000000\n",
      "   macro avg       0.30      0.16      0.16   1000000\n",
      "weighted avg       0.77      0.76      0.73   1000000\n",
      "\n"
     ]
    },
    {
     "name": "stderr",
     "output_type": "stream",
     "text": [
      "C:\\Users\\arthu\\Anaconda2\\envs\\ML_A5\\lib\\site-packages\\sklearn\\metrics\\classification.py:1143: UndefinedMetricWarning: Precision and F-score are ill-defined and being set to 0.0 in labels with no predicted samples.\n",
      "  'precision', 'predicted', average, warn_for)\n"
     ]
    }
   ],
   "source": [
    "print(metrics.classification_report(df_test_y,pred_best_grid))"
   ]
  },
  {
   "cell_type": "markdown",
   "metadata": {},
   "source": [
    "__Pas très rentable en terme de temps pour une amélioration de seulement 0.0744%__"
   ]
  },
  {
   "cell_type": "code",
   "execution_count": 33,
   "metadata": {
    "scrolled": true
   },
   "outputs": [
    {
     "name": "stdout",
     "output_type": "stream",
     "text": [
      "Amélioration du score de 0.0744%.\n"
     ]
    }
   ],
   "source": [
    "print('Amélioration du score de {:0.4f}%.'.format( 100 *(score_best_grid - score_best_random) / score_best_random))"
   ]
  },
  {
   "cell_type": "markdown",
   "metadata": {},
   "source": [
    "### Trade-Off pour le nombres d'arbres - Random Forest"
   ]
  },
  {
   "cell_type": "code",
   "execution_count": 14,
   "metadata": {},
   "outputs": [
    {
     "name": "stderr",
     "output_type": "stream",
     "text": [
      "[Parallel(n_jobs=-1)]: Using backend ThreadingBackend with 4 concurrent workers.\n",
      "[Parallel(n_jobs=-1)]: Done  42 tasks      | elapsed:    1.2s\n",
      "[Parallel(n_jobs=-1)]: Done 192 tasks      | elapsed:    5.2s\n",
      "[Parallel(n_jobs=-1)]: Done 300 out of 300 | elapsed:    8.5s finished\n",
      "[Parallel(n_jobs=4)]: Using backend ThreadingBackend with 4 concurrent workers.\n",
      "[Parallel(n_jobs=4)]: Done  42 tasks      | elapsed:    6.1s\n",
      "[Parallel(n_jobs=4)]: Done 192 tasks      | elapsed:   26.2s\n",
      "[Parallel(n_jobs=4)]: Done 300 out of 300 | elapsed:   41.1s finished\n"
     ]
    },
    {
     "name": "stdout",
     "output_type": "stream",
     "text": [
      "Accuracy trade off modèle  : 76.0783%\n"
     ]
    }
   ],
   "source": [
    "# Rédution du nombre d'arbre à 300 car bon trade-off entre accuracy et temps de calcul\n",
    "clf_best_tradeoff = RandomForestClassifier(bootstrap= False,\n",
    "                             max_depth= 60,\n",
    "                             max_features= 'auto',\n",
    "                             min_samples_leaf= 1,\n",
    "                             min_samples_split= 10,\n",
    "                             n_estimators= 300,\n",
    "                             random_state=0, n_jobs=-1,verbose=1)\n",
    "\n",
    "clf_best_tradeoff.fit(df_train_X_dum,df_train_y)\n",
    "pred_best_tradeoff = clf_best_tradeoff.predict(df_test_X_dum)\n",
    "score_best_tradeoff = accuracy_score(df_test_y,pred_best_tradeoff)*100\n",
    "\n",
    "print('Accuracy trade off modèle  : {:.4f}%'.format(score_best_tradeoff))"
   ]
  },
  {
   "cell_type": "code",
   "execution_count": 35,
   "metadata": {},
   "outputs": [],
   "source": [
    "# Sauvgarde des modèles\n",
    "pickle.dump(rdm_clf_best_grid, open('rdm_clf_best_grid.pkl','wb')) # Trop lourd pour Github\n",
    "pickle.dump(clf_best_tradeoff, open('clf_best_tradeoff.pkl','wb'))"
   ]
  },
  {
   "cell_type": "code",
   "execution_count": 36,
   "metadata": {},
   "outputs": [],
   "source": [
    "#rdm_clf_best_grid = pickle.load(open('rdm_clf_best_grid.pkl','rb'))"
   ]
  },
  {
   "cell_type": "markdown",
   "metadata": {},
   "source": [
    "### Autre approche de modélisation - Multi-Layer Perceptron Classifier\n",
    "\n",
    "Après pas mal d'optimisations on voit que l'on a atteint les limites du Random Forest sur ce type de données.\n",
    "\n",
    "Etant donnée la difficulté de ce dataset je me suis renseigné sur internet afin d'améliorer les résultats et j'ai trouvé que le Multi-Layer Perceptron Classifier performait très bien sur ce type de données non linéaire et avec une très mauvaise distribution."
   ]
  },
  {
   "cell_type": "code",
   "execution_count": 37,
   "metadata": {},
   "outputs": [
    {
     "name": "stderr",
     "output_type": "stream",
     "text": [
      "C:\\Users\\arthu\\Anaconda2\\envs\\ML_A5\\lib\\site-packages\\sklearn\\preprocessing\\data.py:617: DataConversionWarning: Data with input dtype int64 were all converted to float64 by StandardScaler.\n",
      "  return self.partial_fit(X, y)\n",
      "C:\\Users\\arthu\\Anaconda2\\envs\\ML_A5\\lib\\site-packages\\sklearn\\base.py:462: DataConversionWarning: Data with input dtype int64 were all converted to float64 by StandardScaler.\n",
      "  return self.fit(X, **fit_params).transform(X)\n",
      "C:\\Users\\arthu\\Anaconda2\\envs\\ML_A5\\lib\\site-packages\\ipykernel_launcher.py:5: DataConversionWarning: Data with input dtype int64 were all converted to float64 by StandardScaler.\n",
      "  \"\"\"\n"
     ]
    }
   ],
   "source": [
    "# On Scale les données pour faciliter la convergence du MLP\n",
    "scaler = StandardScaler()\n",
    "\n",
    "data_train_X = scaler.fit_transform(df_train_X)\n",
    "data_test_X = scaler.transform(df_test_X)"
   ]
  },
  {
   "cell_type": "markdown",
   "metadata": {},
   "source": [
    "__Les hyperparamètres on été définit d'après ce rapport : https://github.com/sahirnoorali/poker-hand-analysis/blob/master/Report.pdf__\n",
    "\n",
    "__Ce sont les paramètres optimaux qu'a trouvé cette personne pour le \"state of the art\" sur ce dataset__ \n",
    "\n",
    "__J'ai aussi testé avec les données dummify (avec scaler et sans scaler) mais l'accuracy était légérement en dessous (96%) je suis donc resté sur les données sans dummification et avec un scaler__"
   ]
  },
  {
   "cell_type": "code",
   "execution_count": 38,
   "metadata": {
    "scrolled": true
   },
   "outputs": [
    {
     "name": "stdout",
     "output_type": "stream",
     "text": [
      "Iteration 1, loss = 1.01567976\n",
      "Iteration 2, loss = 0.97364193\n",
      "Iteration 3, loss = 0.95627863\n",
      "Iteration 4, loss = 0.95687946\n",
      "Iteration 5, loss = 0.91490610\n",
      "Iteration 6, loss = 0.90140684\n",
      "Iteration 7, loss = 0.82813145\n",
      "Iteration 8, loss = 0.74719877\n",
      "Iteration 9, loss = 0.70991420\n",
      "Iteration 10, loss = 0.58540012\n",
      "Iteration 11, loss = 0.45848024\n",
      "Iteration 12, loss = 0.33179537\n",
      "Iteration 13, loss = 0.23293303\n",
      "Iteration 14, loss = 0.18673687\n",
      "Iteration 15, loss = 0.16162048\n",
      "Iteration 16, loss = 0.14917489\n",
      "Iteration 17, loss = 0.16233727\n",
      "Iteration 18, loss = 0.15023687\n",
      "Iteration 19, loss = 0.13883709\n",
      "Iteration 20, loss = 0.10989170\n",
      "Iteration 21, loss = 0.40839990\n",
      "Iteration 22, loss = 0.22096814\n",
      "Iteration 23, loss = 0.11619497\n",
      "Iteration 24, loss = 0.08836278\n",
      "Iteration 25, loss = 0.07715756\n",
      "Iteration 26, loss = 0.07395804\n",
      "Iteration 27, loss = 0.07242004\n",
      "Iteration 28, loss = 0.09155543\n",
      "Iteration 29, loss = 0.06483467\n",
      "Iteration 30, loss = 0.06273228\n",
      "Iteration 31, loss = 0.06093358\n",
      "Iteration 32, loss = 0.06029060\n",
      "Iteration 33, loss = 0.15055221\n",
      "Iteration 34, loss = 0.09644634\n",
      "Iteration 35, loss = 0.06148495\n",
      "Iteration 36, loss = 0.05005442\n",
      "Iteration 37, loss = 0.04755824\n",
      "Iteration 38, loss = 0.04462082\n",
      "Iteration 39, loss = 0.04765110\n",
      "Iteration 40, loss = 0.07622003\n",
      "Iteration 41, loss = 0.06170458\n",
      "Iteration 42, loss = 0.06105698\n",
      "Iteration 43, loss = 0.15616941\n",
      "Iteration 44, loss = 0.04940389\n",
      "Iteration 45, loss = 0.05199596\n",
      "Iteration 46, loss = 0.05980371\n",
      "Iteration 47, loss = 0.07063080\n",
      "Iteration 48, loss = 0.06048750\n",
      "Iteration 49, loss = 0.04221392\n",
      "Iteration 50, loss = 0.03458706\n",
      "Iteration 51, loss = 0.03185314\n",
      "Iteration 52, loss = 0.03425452\n",
      "Iteration 53, loss = 0.03094837\n",
      "Iteration 54, loss = 0.09780277\n",
      "Iteration 55, loss = 0.16420064\n",
      "Iteration 56, loss = 0.06462717\n",
      "Iteration 57, loss = 0.04095669\n",
      "Iteration 58, loss = 0.03291471\n",
      "Iteration 59, loss = 0.03483362\n",
      "Iteration 60, loss = 0.03454379\n",
      "Iteration 61, loss = 0.03835377\n",
      "Iteration 62, loss = 0.02584700\n",
      "Iteration 63, loss = 0.02820326\n",
      "Iteration 64, loss = 0.04341393\n",
      "Iteration 65, loss = 0.10495521\n",
      "Iteration 66, loss = 0.06497303\n",
      "Iteration 67, loss = 0.04949796\n",
      "Iteration 68, loss = 0.07756674\n",
      "Iteration 69, loss = 0.05469887\n",
      "Iteration 70, loss = 0.03023094\n",
      "Iteration 71, loss = 0.02533380\n",
      "Iteration 72, loss = 0.02261423\n",
      "Iteration 73, loss = 0.02443728\n",
      "Iteration 74, loss = 0.02504891\n",
      "Iteration 75, loss = 0.02737297\n",
      "Iteration 76, loss = 0.04725033\n",
      "Iteration 77, loss = 0.02972579\n",
      "Iteration 78, loss = 0.08978906\n",
      "Iteration 79, loss = 0.08993540\n",
      "Iteration 80, loss = 0.09496758\n",
      "Iteration 81, loss = 0.05349177\n",
      "Iteration 82, loss = 0.02648874\n",
      "Iteration 83, loss = 0.02408048\n",
      "Training loss did not improve more than tol=0.000100 for 10 consecutive epochs. Stopping.\n"
     ]
    }
   ],
   "source": [
    "clf_MLP = MLPClassifier(solver='adam', alpha=1e-5,hidden_layer_sizes=(64,64),\n",
    "                        activation='tanh', learning_rate_init=0.02,max_iter=2000,\n",
    "                        random_state=0, verbose=2)\n",
    "\n",
    "clf_MLP.fit(data_train_X, df_train_y)\n",
    "pred_MLP = clf_MLP.predict(data_test_X)"
   ]
  },
  {
   "cell_type": "markdown",
   "metadata": {},
   "source": [
    "__On remarque que le MLP est excellent concernant les classes les plus représentées (0 à 3, qui contiennent 99,245% des observations) et performe plutot bien sur les classes 4, 5, 6 et 7. Cependant, le modèle n'est toujours pas capable d'identifier les classes les plus sous présenté (8 et 9).__\n",
    "\n",
    "__Les 99.26% d'accuracy sont donc à prendre avec des pincettes car en réalité notre modèle performe très bien uniquement sur 4 classes sur 10__\n",
    "\n",
    "__Une méthode afin d'être plus performant sur ces classes sous représentées serait de faire de l'over-sampling ou d'entrainer un modèle afin de reconnaitre si une main fait parti des classes sous représenté, puis classifier cette main avec uniquement les classes sous représentées.__"
   ]
  },
  {
   "cell_type": "code",
   "execution_count": 39,
   "metadata": {},
   "outputs": [
    {
     "name": "stdout",
     "output_type": "stream",
     "text": [
      "              precision    recall  f1-score   support\n",
      "\n",
      "           0       0.99      1.00      0.99    501209\n",
      "           1       1.00      1.00      1.00    422498\n",
      "           2       1.00      1.00      1.00     47622\n",
      "           3       0.96      0.99      0.97     21121\n",
      "           4       0.47      0.24      0.32      3885\n",
      "           5       0.59      0.06      0.11      1996\n",
      "           6       0.75      0.37      0.50      1424\n",
      "           7       0.62      0.29      0.39       230\n",
      "           8       0.00      0.00      0.00        12\n",
      "           9       0.00      0.00      0.00         3\n",
      "\n",
      "   micro avg       0.99      0.99      0.99   1000000\n",
      "   macro avg       0.64      0.49      0.53   1000000\n",
      "weighted avg       0.99      0.99      0.99   1000000\n",
      "\n",
      "Accuracy MLPClassifier  : 99.2581%\n"
     ]
    }
   ],
   "source": [
    "score_MLP = accuracy_score(df_test_y, pred_MLP)*100\n",
    "\n",
    "print(classification_report(df_test_y,pred_MLP))\n",
    "print('Accuracy MLPClassifier  : {:.4f}%'.format(score_MLP))"
   ]
  },
  {
   "cell_type": "markdown",
   "metadata": {},
   "source": [
    "__On constate une grosse amélioration de l'accuracy +29.83% par rapport au Random forest avec Grid Search.__"
   ]
  },
  {
   "cell_type": "code",
   "execution_count": 40,
   "metadata": {
    "scrolled": true
   },
   "outputs": [
    {
     "name": "stdout",
     "output_type": "stream",
     "text": [
      "Amélioration du score de 29.8338%.\n"
     ]
    }
   ],
   "source": [
    "print('Amélioration du score de {:0.4f}%.'.format( 100 * (score_MLP - score_best_grid) / score_best_grid))"
   ]
  },
  {
   "cell_type": "code",
   "execution_count": 41,
   "metadata": {},
   "outputs": [],
   "source": [
    "# Sauvgarde du modèles\n",
    "pickle.dump(clf_MLP, open('clf_MLP.pkl','wb'))"
   ]
  },
  {
   "cell_type": "markdown",
   "metadata": {},
   "source": [
    "### Comparaison des modèles testés avec leurs scores"
   ]
  },
  {
   "cell_type": "code",
   "execution_count": 43,
   "metadata": {},
   "outputs": [
    {
     "name": "stdout",
     "output_type": "stream",
     "text": [
      "                 Nom des modèles  Scores_Accuracy\n",
      "5                 MLP_classifier          99.2581\n",
      "3           Best_Grid_rdm_forest          76.4501\n",
      "2  Best_Random_Search_rdm_forest          76.3933\n",
      "4      Best_trade_off_rdm_forest          76.0783\n",
      "1            Baseline_rdm_forest          60.2756\n",
      "0                    Naive_model          50.1209\n"
     ]
    }
   ],
   "source": [
    "names = ['Naive_model','Baseline_rdm_forest','Best_Random_Search_rdm_forest',\n",
    "         'Best_Grid_Search_rdm_forest','Best_trade_off_rdm_forest','MLP_classifier']\n",
    "scores = [score_naive_model,score_baseline,score_best_random,score_best_grid,score_best_tradeoff,score_MLP]\n",
    "\n",
    "df_comparaison = pd.DataFrame({'Nom des modèles' : names,\n",
    "                              'Scores_Accuracy' : scores})\n",
    "\n",
    "\n",
    "print(df_comparaison.sort_values(by=['Scores_Accuracy'], ascending=False))"
   ]
  },
  {
   "cell_type": "markdown",
   "metadata": {},
   "source": [
    "### Autre approche de modélisation \n",
    "\n",
    "D'autres approches on été testé mais ce sont révélées non concluantes donc non présentes dans ce notebook :\n",
    "\n",
    "-  Over-Sampling/Down-Sampling : pas efficace, n'a pas permis d'améliorer l'accuracy sur les classes sous représentées.\n",
    "-  Double classification : D'abord classifier si une main est de type rare (4, 5, 6, 7, 8, 9) puis, avec un modèle uniquement entrainé sur les main de type rare, classifier la main en question. Pas efficace non plus, car pas capable de classifier correctement des mains de type rares\n"
   ]
  }
 ],
 "metadata": {
  "kernelspec": {
   "display_name": "Python 3",
   "language": "python",
   "name": "python3"
  },
  "language_info": {
   "codemirror_mode": {
    "name": "ipython",
    "version": 3
   },
   "file_extension": ".py",
   "mimetype": "text/x-python",
   "name": "python",
   "nbconvert_exporter": "python",
   "pygments_lexer": "ipython3",
   "version": "3.6.6"
  }
 },
 "nbformat": 4,
 "nbformat_minor": 2
}
