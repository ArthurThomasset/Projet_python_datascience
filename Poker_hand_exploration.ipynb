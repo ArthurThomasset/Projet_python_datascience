{
 "cells": [
  {
   "cell_type": "markdown",
   "metadata": {},
   "source": [
    "# Projet Python Data Analysis\n",
    "\n",
    "# Dataset : Poker Hand"
   ]
  },
  {
   "cell_type": "markdown",
   "metadata": {},
   "source": [
    "## Packages import"
   ]
  },
  {
   "cell_type": "code",
   "execution_count": 63,
   "metadata": {},
   "outputs": [],
   "source": [
    "import pandas as pd\n",
    "import numpy as np\n",
    "import pickle\n",
    "\n",
    "import matplotlib.pyplot as plt\n",
    "import seaborn as sns\n",
    "\n",
    "from sklearn import metrics\n",
    "from sklearn.preprocessing import OneHotEncoder\n",
    "from sklearn.preprocessing import StandardScaler\n",
    "\n",
    "from sklearn.model_selection import RandomizedSearchCV\n",
    "from sklearn.model_selection import GridSearchCV\n",
    "\n",
    "from sklearn.metrics import accuracy_score, classification_report,confusion_matrix\n",
    "\n",
    "from sklearn.ensemble import RandomForestClassifier\n",
    "from sklearn.neural_network import MLPClassifier\n"
   ]
  },
  {
   "cell_type": "markdown",
   "metadata": {},
   "source": [
    "## Data Exploration\n"
   ]
  },
  {
   "cell_type": "code",
   "execution_count": 207,
   "metadata": {
    "scrolled": true
   },
   "outputs": [
    {
     "data": {
      "text/html": [
       "<div>\n",
       "<style scoped>\n",
       "    .dataframe tbody tr th:only-of-type {\n",
       "        vertical-align: middle;\n",
       "    }\n",
       "\n",
       "    .dataframe tbody tr th {\n",
       "        vertical-align: top;\n",
       "    }\n",
       "\n",
       "    .dataframe thead th {\n",
       "        text-align: right;\n",
       "    }\n",
       "</style>\n",
       "<table border=\"1\" class=\"dataframe\">\n",
       "  <thead>\n",
       "    <tr style=\"text-align: right;\">\n",
       "      <th></th>\n",
       "      <th>S1</th>\n",
       "      <th>C1</th>\n",
       "      <th>S2</th>\n",
       "      <th>C2</th>\n",
       "      <th>S3</th>\n",
       "      <th>C3</th>\n",
       "      <th>S4</th>\n",
       "      <th>C4</th>\n",
       "      <th>S5</th>\n",
       "      <th>C5</th>\n",
       "      <th>Y</th>\n",
       "    </tr>\n",
       "  </thead>\n",
       "  <tbody>\n",
       "    <tr>\n",
       "      <th>0</th>\n",
       "      <td>1</td>\n",
       "      <td>10</td>\n",
       "      <td>1</td>\n",
       "      <td>11</td>\n",
       "      <td>1</td>\n",
       "      <td>13</td>\n",
       "      <td>1</td>\n",
       "      <td>12</td>\n",
       "      <td>1</td>\n",
       "      <td>1</td>\n",
       "      <td>9</td>\n",
       "    </tr>\n",
       "    <tr>\n",
       "      <th>1</th>\n",
       "      <td>2</td>\n",
       "      <td>11</td>\n",
       "      <td>2</td>\n",
       "      <td>13</td>\n",
       "      <td>2</td>\n",
       "      <td>10</td>\n",
       "      <td>2</td>\n",
       "      <td>12</td>\n",
       "      <td>2</td>\n",
       "      <td>1</td>\n",
       "      <td>9</td>\n",
       "    </tr>\n",
       "    <tr>\n",
       "      <th>2</th>\n",
       "      <td>3</td>\n",
       "      <td>12</td>\n",
       "      <td>3</td>\n",
       "      <td>11</td>\n",
       "      <td>3</td>\n",
       "      <td>13</td>\n",
       "      <td>3</td>\n",
       "      <td>10</td>\n",
       "      <td>3</td>\n",
       "      <td>1</td>\n",
       "      <td>9</td>\n",
       "    </tr>\n",
       "    <tr>\n",
       "      <th>3</th>\n",
       "      <td>4</td>\n",
       "      <td>10</td>\n",
       "      <td>4</td>\n",
       "      <td>11</td>\n",
       "      <td>4</td>\n",
       "      <td>1</td>\n",
       "      <td>4</td>\n",
       "      <td>13</td>\n",
       "      <td>4</td>\n",
       "      <td>12</td>\n",
       "      <td>9</td>\n",
       "    </tr>\n",
       "    <tr>\n",
       "      <th>4</th>\n",
       "      <td>4</td>\n",
       "      <td>1</td>\n",
       "      <td>4</td>\n",
       "      <td>13</td>\n",
       "      <td>4</td>\n",
       "      <td>12</td>\n",
       "      <td>4</td>\n",
       "      <td>11</td>\n",
       "      <td>4</td>\n",
       "      <td>10</td>\n",
       "      <td>9</td>\n",
       "    </tr>\n",
       "  </tbody>\n",
       "</table>\n",
       "</div>"
      ],
      "text/plain": [
       "   S1  C1  S2  C2  S3  C3  S4  C4  S5  C5  Y\n",
       "0   1  10   1  11   1  13   1  12   1   1  9\n",
       "1   2  11   2  13   2  10   2  12   2   1  9\n",
       "2   3  12   3  11   3  13   3  10   3   1  9\n",
       "3   4  10   4  11   4   1   4  13   4  12  9\n",
       "4   4   1   4  13   4  12   4  11   4  10  9"
      ]
     },
     "execution_count": 207,
     "metadata": {},
     "output_type": "execute_result"
    }
   ],
   "source": [
    "column = [\"S1\",\"C1\",\"S2\",\"C2\",\"S3\",\"C3\",\"S4\",\"C4\",\"S5\",\"C5\",\"Y\"]\n",
    "df_poker_hand_train = pd.read_csv('poker-hand-training-true.data.txt',names=column)\n",
    "df_poker_hand_train.head()"
   ]
  },
  {
   "cell_type": "code",
   "execution_count": 208,
   "metadata": {},
   "outputs": [
    {
     "data": {
      "text/html": [
       "<div>\n",
       "<style scoped>\n",
       "    .dataframe tbody tr th:only-of-type {\n",
       "        vertical-align: middle;\n",
       "    }\n",
       "\n",
       "    .dataframe tbody tr th {\n",
       "        vertical-align: top;\n",
       "    }\n",
       "\n",
       "    .dataframe thead th {\n",
       "        text-align: right;\n",
       "    }\n",
       "</style>\n",
       "<table border=\"1\" class=\"dataframe\">\n",
       "  <thead>\n",
       "    <tr style=\"text-align: right;\">\n",
       "      <th></th>\n",
       "      <th>S1</th>\n",
       "      <th>C1</th>\n",
       "      <th>S2</th>\n",
       "      <th>C2</th>\n",
       "      <th>S3</th>\n",
       "      <th>C3</th>\n",
       "      <th>S4</th>\n",
       "      <th>C4</th>\n",
       "      <th>S5</th>\n",
       "      <th>C5</th>\n",
       "      <th>Y</th>\n",
       "    </tr>\n",
       "  </thead>\n",
       "  <tbody>\n",
       "    <tr>\n",
       "      <th>count</th>\n",
       "      <td>25010.000000</td>\n",
       "      <td>25010.000000</td>\n",
       "      <td>25010.000000</td>\n",
       "      <td>25010.000000</td>\n",
       "      <td>25010.000000</td>\n",
       "      <td>25010.000000</td>\n",
       "      <td>25010.000000</td>\n",
       "      <td>25010.000000</td>\n",
       "      <td>25010.000000</td>\n",
       "      <td>25010.000000</td>\n",
       "      <td>25010.000000</td>\n",
       "    </tr>\n",
       "    <tr>\n",
       "      <th>mean</th>\n",
       "      <td>2.508756</td>\n",
       "      <td>6.995242</td>\n",
       "      <td>2.497721</td>\n",
       "      <td>7.014194</td>\n",
       "      <td>2.510236</td>\n",
       "      <td>7.014154</td>\n",
       "      <td>2.495922</td>\n",
       "      <td>6.942463</td>\n",
       "      <td>2.497321</td>\n",
       "      <td>6.962735</td>\n",
       "      <td>0.621152</td>\n",
       "    </tr>\n",
       "    <tr>\n",
       "      <th>std</th>\n",
       "      <td>1.116483</td>\n",
       "      <td>3.749805</td>\n",
       "      <td>1.121767</td>\n",
       "      <td>3.766974</td>\n",
       "      <td>1.123148</td>\n",
       "      <td>3.744974</td>\n",
       "      <td>1.116009</td>\n",
       "      <td>3.747147</td>\n",
       "      <td>1.118732</td>\n",
       "      <td>3.741579</td>\n",
       "      <td>0.788361</td>\n",
       "    </tr>\n",
       "    <tr>\n",
       "      <th>min</th>\n",
       "      <td>1.000000</td>\n",
       "      <td>1.000000</td>\n",
       "      <td>1.000000</td>\n",
       "      <td>1.000000</td>\n",
       "      <td>1.000000</td>\n",
       "      <td>1.000000</td>\n",
       "      <td>1.000000</td>\n",
       "      <td>1.000000</td>\n",
       "      <td>1.000000</td>\n",
       "      <td>1.000000</td>\n",
       "      <td>0.000000</td>\n",
       "    </tr>\n",
       "    <tr>\n",
       "      <th>25%</th>\n",
       "      <td>2.000000</td>\n",
       "      <td>4.000000</td>\n",
       "      <td>1.000000</td>\n",
       "      <td>4.000000</td>\n",
       "      <td>2.000000</td>\n",
       "      <td>4.000000</td>\n",
       "      <td>1.000000</td>\n",
       "      <td>4.000000</td>\n",
       "      <td>1.000000</td>\n",
       "      <td>4.000000</td>\n",
       "      <td>0.000000</td>\n",
       "    </tr>\n",
       "    <tr>\n",
       "      <th>50%</th>\n",
       "      <td>3.000000</td>\n",
       "      <td>7.000000</td>\n",
       "      <td>2.000000</td>\n",
       "      <td>7.000000</td>\n",
       "      <td>3.000000</td>\n",
       "      <td>7.000000</td>\n",
       "      <td>2.000000</td>\n",
       "      <td>7.000000</td>\n",
       "      <td>3.000000</td>\n",
       "      <td>7.000000</td>\n",
       "      <td>1.000000</td>\n",
       "    </tr>\n",
       "    <tr>\n",
       "      <th>75%</th>\n",
       "      <td>4.000000</td>\n",
       "      <td>10.000000</td>\n",
       "      <td>4.000000</td>\n",
       "      <td>10.000000</td>\n",
       "      <td>4.000000</td>\n",
       "      <td>10.000000</td>\n",
       "      <td>3.000000</td>\n",
       "      <td>10.000000</td>\n",
       "      <td>3.000000</td>\n",
       "      <td>10.000000</td>\n",
       "      <td>1.000000</td>\n",
       "    </tr>\n",
       "    <tr>\n",
       "      <th>max</th>\n",
       "      <td>4.000000</td>\n",
       "      <td>13.000000</td>\n",
       "      <td>4.000000</td>\n",
       "      <td>13.000000</td>\n",
       "      <td>4.000000</td>\n",
       "      <td>13.000000</td>\n",
       "      <td>4.000000</td>\n",
       "      <td>13.000000</td>\n",
       "      <td>4.000000</td>\n",
       "      <td>13.000000</td>\n",
       "      <td>9.000000</td>\n",
       "    </tr>\n",
       "  </tbody>\n",
       "</table>\n",
       "</div>"
      ],
      "text/plain": [
       "                 S1            C1            S2            C2            S3  \\\n",
       "count  25010.000000  25010.000000  25010.000000  25010.000000  25010.000000   \n",
       "mean       2.508756      6.995242      2.497721      7.014194      2.510236   \n",
       "std        1.116483      3.749805      1.121767      3.766974      1.123148   \n",
       "min        1.000000      1.000000      1.000000      1.000000      1.000000   \n",
       "25%        2.000000      4.000000      1.000000      4.000000      2.000000   \n",
       "50%        3.000000      7.000000      2.000000      7.000000      3.000000   \n",
       "75%        4.000000     10.000000      4.000000     10.000000      4.000000   \n",
       "max        4.000000     13.000000      4.000000     13.000000      4.000000   \n",
       "\n",
       "                 C3            S4            C4            S5            C5  \\\n",
       "count  25010.000000  25010.000000  25010.000000  25010.000000  25010.000000   \n",
       "mean       7.014154      2.495922      6.942463      2.497321      6.962735   \n",
       "std        3.744974      1.116009      3.747147      1.118732      3.741579   \n",
       "min        1.000000      1.000000      1.000000      1.000000      1.000000   \n",
       "25%        4.000000      1.000000      4.000000      1.000000      4.000000   \n",
       "50%        7.000000      2.000000      7.000000      3.000000      7.000000   \n",
       "75%       10.000000      3.000000     10.000000      3.000000     10.000000   \n",
       "max       13.000000      4.000000     13.000000      4.000000     13.000000   \n",
       "\n",
       "                  Y  \n",
       "count  25010.000000  \n",
       "mean       0.621152  \n",
       "std        0.788361  \n",
       "min        0.000000  \n",
       "25%        0.000000  \n",
       "50%        1.000000  \n",
       "75%        1.000000  \n",
       "max        9.000000  "
      ]
     },
     "execution_count": 208,
     "metadata": {},
     "output_type": "execute_result"
    }
   ],
   "source": [
    "# Décris les variables quantitative\n",
    "df_poker_hand_train.describe()"
   ]
  },
  {
   "cell_type": "code",
   "execution_count": 209,
   "metadata": {
    "scrolled": true
   },
   "outputs": [
    {
     "data": {
      "text/html": [
       "<div>\n",
       "<style scoped>\n",
       "    .dataframe tbody tr th:only-of-type {\n",
       "        vertical-align: middle;\n",
       "    }\n",
       "\n",
       "    .dataframe tbody tr th {\n",
       "        vertical-align: top;\n",
       "    }\n",
       "\n",
       "    .dataframe thead th {\n",
       "        text-align: right;\n",
       "    }\n",
       "</style>\n",
       "<table border=\"1\" class=\"dataframe\">\n",
       "  <thead>\n",
       "    <tr style=\"text-align: right;\">\n",
       "      <th></th>\n",
       "      <th>S1</th>\n",
       "      <th>C1</th>\n",
       "      <th>S2</th>\n",
       "      <th>C2</th>\n",
       "      <th>S3</th>\n",
       "      <th>C3</th>\n",
       "      <th>S4</th>\n",
       "      <th>C4</th>\n",
       "      <th>S5</th>\n",
       "      <th>C5</th>\n",
       "      <th>Y</th>\n",
       "    </tr>\n",
       "  </thead>\n",
       "  <tbody>\n",
       "    <tr>\n",
       "      <th>0</th>\n",
       "      <td>1</td>\n",
       "      <td>1</td>\n",
       "      <td>1</td>\n",
       "      <td>13</td>\n",
       "      <td>2</td>\n",
       "      <td>4</td>\n",
       "      <td>2</td>\n",
       "      <td>3</td>\n",
       "      <td>1</td>\n",
       "      <td>12</td>\n",
       "      <td>0</td>\n",
       "    </tr>\n",
       "    <tr>\n",
       "      <th>1</th>\n",
       "      <td>3</td>\n",
       "      <td>12</td>\n",
       "      <td>3</td>\n",
       "      <td>2</td>\n",
       "      <td>3</td>\n",
       "      <td>11</td>\n",
       "      <td>4</td>\n",
       "      <td>5</td>\n",
       "      <td>2</td>\n",
       "      <td>5</td>\n",
       "      <td>1</td>\n",
       "    </tr>\n",
       "    <tr>\n",
       "      <th>2</th>\n",
       "      <td>1</td>\n",
       "      <td>9</td>\n",
       "      <td>4</td>\n",
       "      <td>6</td>\n",
       "      <td>1</td>\n",
       "      <td>4</td>\n",
       "      <td>3</td>\n",
       "      <td>2</td>\n",
       "      <td>3</td>\n",
       "      <td>9</td>\n",
       "      <td>1</td>\n",
       "    </tr>\n",
       "    <tr>\n",
       "      <th>3</th>\n",
       "      <td>1</td>\n",
       "      <td>4</td>\n",
       "      <td>3</td>\n",
       "      <td>13</td>\n",
       "      <td>2</td>\n",
       "      <td>13</td>\n",
       "      <td>2</td>\n",
       "      <td>1</td>\n",
       "      <td>3</td>\n",
       "      <td>6</td>\n",
       "      <td>1</td>\n",
       "    </tr>\n",
       "    <tr>\n",
       "      <th>4</th>\n",
       "      <td>3</td>\n",
       "      <td>10</td>\n",
       "      <td>2</td>\n",
       "      <td>7</td>\n",
       "      <td>1</td>\n",
       "      <td>2</td>\n",
       "      <td>2</td>\n",
       "      <td>11</td>\n",
       "      <td>4</td>\n",
       "      <td>9</td>\n",
       "      <td>0</td>\n",
       "    </tr>\n",
       "  </tbody>\n",
       "</table>\n",
       "</div>"
      ],
      "text/plain": [
       "   S1  C1  S2  C2  S3  C3  S4  C4  S5  C5  Y\n",
       "0   1   1   1  13   2   4   2   3   1  12  0\n",
       "1   3  12   3   2   3  11   4   5   2   5  1\n",
       "2   1   9   4   6   1   4   3   2   3   9  1\n",
       "3   1   4   3  13   2  13   2   1   3   6  1\n",
       "4   3  10   2   7   1   2   2  11   4   9  0"
      ]
     },
     "execution_count": 209,
     "metadata": {},
     "output_type": "execute_result"
    }
   ],
   "source": [
    "column = [\"S1\",\"C1\",\"S2\",\"C2\",\"S3\",\"C3\",\"S4\",\"C4\",\"S5\",\"C5\",\"Y\"]\n",
    "df_poker_hand_test = pd.read_csv('poker-hand-testing.data.txt',names=column)\n",
    "df_poker_hand_test.head()"
   ]
  },
  {
   "cell_type": "code",
   "execution_count": 210,
   "metadata": {},
   "outputs": [
    {
     "data": {
      "text/html": [
       "<div>\n",
       "<style scoped>\n",
       "    .dataframe tbody tr th:only-of-type {\n",
       "        vertical-align: middle;\n",
       "    }\n",
       "\n",
       "    .dataframe tbody tr th {\n",
       "        vertical-align: top;\n",
       "    }\n",
       "\n",
       "    .dataframe thead th {\n",
       "        text-align: right;\n",
       "    }\n",
       "</style>\n",
       "<table border=\"1\" class=\"dataframe\">\n",
       "  <thead>\n",
       "    <tr style=\"text-align: right;\">\n",
       "      <th></th>\n",
       "      <th>S1</th>\n",
       "      <th>C1</th>\n",
       "      <th>S2</th>\n",
       "      <th>C2</th>\n",
       "      <th>S3</th>\n",
       "      <th>C3</th>\n",
       "      <th>S4</th>\n",
       "      <th>C4</th>\n",
       "      <th>S5</th>\n",
       "      <th>C5</th>\n",
       "      <th>Y</th>\n",
       "    </tr>\n",
       "  </thead>\n",
       "  <tbody>\n",
       "    <tr>\n",
       "      <th>count</th>\n",
       "      <td>1000000.000000</td>\n",
       "      <td>1000000.000000</td>\n",
       "      <td>1000000.000000</td>\n",
       "      <td>1000000.000000</td>\n",
       "      <td>1000000.000000</td>\n",
       "      <td>1000000.000000</td>\n",
       "      <td>1000000.000000</td>\n",
       "      <td>1000000.000000</td>\n",
       "      <td>1000000.000000</td>\n",
       "      <td>1000000.000000</td>\n",
       "      <td>1000000.000000</td>\n",
       "    </tr>\n",
       "    <tr>\n",
       "      <th>mean</th>\n",
       "      <td>2.500493</td>\n",
       "      <td>6.997927</td>\n",
       "      <td>2.499894</td>\n",
       "      <td>7.006097</td>\n",
       "      <td>2.500871</td>\n",
       "      <td>6.998873</td>\n",
       "      <td>2.500393</td>\n",
       "      <td>7.002298</td>\n",
       "      <td>2.499451</td>\n",
       "      <td>6.989481</td>\n",
       "      <td>0.616902</td>\n",
       "    </tr>\n",
       "    <tr>\n",
       "      <th>std</th>\n",
       "      <td>1.117768</td>\n",
       "      <td>3.743374</td>\n",
       "      <td>1.118568</td>\n",
       "      <td>3.743481</td>\n",
       "      <td>1.118225</td>\n",
       "      <td>3.741890</td>\n",
       "      <td>1.117245</td>\n",
       "      <td>3.741270</td>\n",
       "      <td>1.118948</td>\n",
       "      <td>3.739894</td>\n",
       "      <td>0.773377</td>\n",
       "    </tr>\n",
       "    <tr>\n",
       "      <th>min</th>\n",
       "      <td>1.000000</td>\n",
       "      <td>1.000000</td>\n",
       "      <td>1.000000</td>\n",
       "      <td>1.000000</td>\n",
       "      <td>1.000000</td>\n",
       "      <td>1.000000</td>\n",
       "      <td>1.000000</td>\n",
       "      <td>1.000000</td>\n",
       "      <td>1.000000</td>\n",
       "      <td>1.000000</td>\n",
       "      <td>0.000000</td>\n",
       "    </tr>\n",
       "    <tr>\n",
       "      <th>25%</th>\n",
       "      <td>2.000000</td>\n",
       "      <td>4.000000</td>\n",
       "      <td>1.000000</td>\n",
       "      <td>4.000000</td>\n",
       "      <td>1.000000</td>\n",
       "      <td>4.000000</td>\n",
       "      <td>2.000000</td>\n",
       "      <td>4.000000</td>\n",
       "      <td>1.000000</td>\n",
       "      <td>4.000000</td>\n",
       "      <td>0.000000</td>\n",
       "    </tr>\n",
       "    <tr>\n",
       "      <th>50%</th>\n",
       "      <td>3.000000</td>\n",
       "      <td>7.000000</td>\n",
       "      <td>3.000000</td>\n",
       "      <td>7.000000</td>\n",
       "      <td>3.000000</td>\n",
       "      <td>7.000000</td>\n",
       "      <td>3.000000</td>\n",
       "      <td>7.000000</td>\n",
       "      <td>2.000000</td>\n",
       "      <td>7.000000</td>\n",
       "      <td>0.000000</td>\n",
       "    </tr>\n",
       "    <tr>\n",
       "      <th>75%</th>\n",
       "      <td>3.000000</td>\n",
       "      <td>10.000000</td>\n",
       "      <td>4.000000</td>\n",
       "      <td>10.000000</td>\n",
       "      <td>4.000000</td>\n",
       "      <td>10.000000</td>\n",
       "      <td>3.000000</td>\n",
       "      <td>10.000000</td>\n",
       "      <td>4.000000</td>\n",
       "      <td>10.000000</td>\n",
       "      <td>1.000000</td>\n",
       "    </tr>\n",
       "    <tr>\n",
       "      <th>max</th>\n",
       "      <td>4.000000</td>\n",
       "      <td>13.000000</td>\n",
       "      <td>4.000000</td>\n",
       "      <td>13.000000</td>\n",
       "      <td>4.000000</td>\n",
       "      <td>13.000000</td>\n",
       "      <td>4.000000</td>\n",
       "      <td>13.000000</td>\n",
       "      <td>4.000000</td>\n",
       "      <td>13.000000</td>\n",
       "      <td>9.000000</td>\n",
       "    </tr>\n",
       "  </tbody>\n",
       "</table>\n",
       "</div>"
      ],
      "text/plain": [
       "                   S1              C1              S2              C2  \\\n",
       "count  1000000.000000  1000000.000000  1000000.000000  1000000.000000   \n",
       "mean         2.500493        6.997927        2.499894        7.006097   \n",
       "std          1.117768        3.743374        1.118568        3.743481   \n",
       "min          1.000000        1.000000        1.000000        1.000000   \n",
       "25%          2.000000        4.000000        1.000000        4.000000   \n",
       "50%          3.000000        7.000000        3.000000        7.000000   \n",
       "75%          3.000000       10.000000        4.000000       10.000000   \n",
       "max          4.000000       13.000000        4.000000       13.000000   \n",
       "\n",
       "                   S3              C3              S4              C4  \\\n",
       "count  1000000.000000  1000000.000000  1000000.000000  1000000.000000   \n",
       "mean         2.500871        6.998873        2.500393        7.002298   \n",
       "std          1.118225        3.741890        1.117245        3.741270   \n",
       "min          1.000000        1.000000        1.000000        1.000000   \n",
       "25%          1.000000        4.000000        2.000000        4.000000   \n",
       "50%          3.000000        7.000000        3.000000        7.000000   \n",
       "75%          4.000000       10.000000        3.000000       10.000000   \n",
       "max          4.000000       13.000000        4.000000       13.000000   \n",
       "\n",
       "                   S5              C5               Y  \n",
       "count  1000000.000000  1000000.000000  1000000.000000  \n",
       "mean         2.499451        6.989481        0.616902  \n",
       "std          1.118948        3.739894        0.773377  \n",
       "min          1.000000        1.000000        0.000000  \n",
       "25%          1.000000        4.000000        0.000000  \n",
       "50%          2.000000        7.000000        0.000000  \n",
       "75%          4.000000       10.000000        1.000000  \n",
       "max          4.000000       13.000000        9.000000  "
      ]
     },
     "execution_count": 210,
     "metadata": {},
     "output_type": "execute_result"
    }
   ],
   "source": [
    "# Décris les variables quantitative\n",
    "df_poker_hand_test.describe()"
   ]
  },
  {
   "cell_type": "markdown",
   "metadata": {},
   "source": [
    "### Distribution des données\n",
    "\n",
    "Point important car le dataset est jugé comme difficile."
   ]
  },
  {
   "cell_type": "code",
   "execution_count": 6,
   "metadata": {
    "scrolled": false
   },
   "outputs": [
    {
     "name": "stdout",
     "output_type": "stream",
     "text": [
      "Distribution de la target sur Train\n",
      " 0    49.952019\n",
      "1    42.379048\n",
      "2     4.822071\n",
      "3     2.051180\n",
      "4     0.371851\n",
      "5     0.215914\n",
      "6     0.143942\n",
      "7     0.023990\n",
      "9     0.019992\n",
      "8     0.019992\n",
      "Name: Y, dtype: float64\n",
      "\n",
      "Distribution de la target sur Test\n",
      " 0    50.1209\n",
      "1    42.2498\n",
      "2     4.7622\n",
      "3     2.1121\n",
      "4     0.3885\n",
      "5     0.1996\n",
      "6     0.1424\n",
      "7     0.0230\n",
      "8     0.0012\n",
      "9     0.0003\n",
      "Name: Y, dtype: float64\n"
     ]
    }
   ],
   "source": [
    "print(\"Distribution de la target sur Train\\n\",df_poker_hand_train.Y.value_counts(normalize=True)*100),print()\n",
    "print(\"Distribution de la target sur Test\\n\",df_poker_hand_test.Y.value_counts(normalize=True)*100)"
   ]
  },
  {
   "cell_type": "code",
   "execution_count": 102,
   "metadata": {
    "scrolled": false
   },
   "outputs": [
    {
     "data": {
      "text/plain": [
       "Text(0, 0.5, \"Nombres d'observations\")"
      ]
     },
     "execution_count": 102,
     "metadata": {},
     "output_type": "execute_result"
    },
    {
     "data": {
      "image/png": "[encoded data removed]",
      "text/plain": [
       "<Figure size 864x576 with 1 Axes>"
      ]
     },
     "metadata": {},
     "output_type": "display_data"
    }
   ],
   "source": [
    "ax = df_train_y.hist(grid=False, figsize=(12,8), color='Blue', zorder=2, rwidth=0.9)\n",
    "\n",
    "\n",
    "# Despine\n",
    "ax.spines['right'].set_visible(False)\n",
    "ax.spines['top'].set_visible(False)\n",
    "ax.spines['left'].set_visible(False)\n",
    "\n",
    "# Switch off ticks\n",
    "ax.tick_params(axis=\"both\", which=\"both\", bottom=False, top=False, labelbottom=True, left=False, right=False, labelleft=True)\n",
    "\n",
    "# Draw horizontal axis lines\n",
    "vals = ax.get_yticks()\n",
    "for tick in vals:\n",
    "    ax.axhline(y=tick, linestyle='dashed', alpha=0.4, color='#ffffff', zorder=1)\n",
    "\n",
    "# Remove title\n",
    "ax.set_title(\"Distribution des Poker Hands dans le training set\",weight='bold', size=18)\n",
    "\n",
    "# Set x-axis label\n",
    "ax.set_xlabel(\"Target class (Main au Poker)\", labelpad=20, weight='bold', size=12)\n",
    "\n",
    "# Set y-axis label\n",
    "ax.set_ylabel(\"Nombres d'observations\", labelpad=20, weight='bold', size=12)"
   ]
  },
  {
   "cell_type": "code",
   "execution_count": 100,
   "metadata": {},
   "outputs": [
    {
     "data": {
      "text/plain": [
       "Text(0, 0.5, \"Nombres d'observations\")"
      ]
     },
     "execution_count": 100,
     "metadata": {},
     "output_type": "execute_result"
    },
    {
     "data": {
      "image/png": "[encoded data removed]",
      "text/plain": [
       "<Figure size 864x576 with 1 Axes>"
      ]
     },
     "metadata": {},
     "output_type": "display_data"
    }
   ],
   "source": [
    "ax = df_test_y.hist(grid=False, figsize=(12,8), color='Blue', zorder=2, rwidth=0.9)\n",
    "\n",
    "\n",
    "# Despine\n",
    "ax.spines['right'].set_visible(False)\n",
    "ax.spines['top'].set_visible(False)\n",
    "ax.spines['left'].set_visible(False)\n",
    "\n",
    "# Switch off ticks\n",
    "ax.tick_params(axis=\"both\", which=\"both\", bottom=False, top=False, labelbottom=True, left=False, right=False, labelleft=True)\n",
    "\n",
    "# Draw horizontal axis lines\n",
    "vals = ax.get_yticks()\n",
    "for tick in vals:\n",
    "    ax.axhline(y=tick, linestyle='dashed', alpha=0.4, color='#ffffff', zorder=1)\n",
    "\n",
    "# Remove title\n",
    "ax.set_title(\"Distribution des Poker Hands dans le testing set\",weight='bold', size=18)\n",
    "\n",
    "# Set x-axis label\n",
    "ax.set_xlabel(\"Target class (Main au Poker)\", labelpad=20, weight='bold', size=12)\n",
    "\n",
    "# Set y-axis label\n",
    "ax.set_ylabel(\"Nombres d'observations\", labelpad=20, weight='bold', size=12)"
   ]
  },
  {
   "cell_type": "markdown",
   "metadata": {},
   "source": [
    "__On remarque que la distribution des targets sur le jeu de train sont sensiblement similaire aux probabilités d'apparitions des mains dans le poker avec un jeu de 52 cartes.__\n",
    "\n",
    "__Les classes 4, 5, 6, 7, 8, 9 représentent  moins de 1% (0.7953%) des données du dataset de train.__\n",
    "\n",
    "__Je présume donc, qu'étant donnée la faible quantité d'observations dans le jeu de train (25 010 lignes) par rapport au jeu de test (1 000 000 lignes) et avec ce type de distribution le modèle risque de très mal se comporter sur les mains les plus rares.__"
   ]
  },
  {
   "cell_type": "markdown",
   "metadata": {},
   "source": [
    "![title](img/poker_proba.png)"
   ]
  },
  {
   "cell_type": "markdown",
   "metadata": {},
   "source": [
    "## Data Preparation"
   ]
  },
  {
   "cell_type": "code",
   "execution_count": 7,
   "metadata": {
    "scrolled": true
   },
   "outputs": [
    {
     "name": "stdout",
     "output_type": "stream",
     "text": [
      "(25010, 10)\n",
      "(25010,)\n",
      "(1000000, 10)\n",
      "(1000000,)\n"
     ]
    }
   ],
   "source": [
    "# On sépare la target de notre jeu de données d'entrainement \n",
    "df_train_X = df_poker_hand_train[df_poker_hand_train.columns[:-1]]\n",
    "df_train_y = df_poker_hand_train[df_poker_hand_train.columns[-1]]\n",
    "print(df_train_X.shape)\n",
    "print(df_train_y.shape)\n",
    "\n",
    "# On sépare la target de notre jeu de données de test\n",
    "df_test_X = df_poker_hand_test[df_poker_hand_test.columns[:-1]]\n",
    "df_test_y = df_poker_hand_test[df_poker_hand_test.columns[-1]]\n",
    "\n",
    "print(df_test_X.shape)\n",
    "print(df_test_y.shape)"
   ]
  },
  {
   "cell_type": "code",
   "execution_count": 8,
   "metadata": {},
   "outputs": [
    {
     "name": "stderr",
     "output_type": "stream",
     "text": [
      "/anaconda3/lib/python3.7/site-packages/sklearn/preprocessing/_encoders.py:368: FutureWarning: The handling of integer data will change in version 0.22. Currently, the categories are determined based on the range [0, max(values)], while in the future they will be determined based on the unique values.\n",
      "If you want the future behaviour and silence this warning, you can specify \"categories='auto'\".\n",
      "In case you used a LabelEncoder before this OneHotEncoder to convert the categories to integers, then you can now use the OneHotEncoder directly.\n",
      "  warnings.warn(msg, FutureWarning)\n"
     ]
    }
   ],
   "source": [
    "# On dummify les modalitées de nos variables car on veut représenter chaque attributs de chaque carte comme une catégorie\n",
    "encoder_df = OneHotEncoder(sparse=False)\n",
    "df_train_X_dum = encoder_df.fit_transform(df_train_X)\n",
    "df_test_X_dum = encoder_df.transform(df_test_X)"
   ]
  },
  {
   "cell_type": "code",
   "execution_count": 9,
   "metadata": {
    "scrolled": true
   },
   "outputs": [
    {
     "name": "stdout",
     "output_type": "stream",
     "text": [
      "(25010, 85)\n",
      "(1000000, 85)\n"
     ]
    }
   ],
   "source": [
    "# On repasse en dataframe pour plus de simplicité et de clarté \n",
    "df_train_X_dum = pd.DataFrame(df_train_X_dum)\n",
    "print(df_train_X_dum.shape)\n",
    "df_test_X_dum = pd.DataFrame(df_test_X_dum)\n",
    "print(df_test_X_dum.shape)"
   ]
  },
  {
   "cell_type": "markdown",
   "metadata": {},
   "source": [
    "__Création de prédictions naives, dans le cas ou l'on prédit tout à 0, afin de pouvoir juger la pertinence des autres modèles__"
   ]
  },
  {
   "cell_type": "code",
   "execution_count": 295,
   "metadata": {},
   "outputs": [],
   "source": [
    "df_poker_hand_test[\"prediction_naive\"] = 0 # Classe la plus représenté dans le jeu de train\n",
    "score_naive_model = accuracy_score(df_poker_hand_test['Y'],df_poker_hand_test['prediction_naive'])*100"
   ]
  },
  {
   "cell_type": "code",
   "execution_count": 296,
   "metadata": {},
   "outputs": [
    {
     "name": "stdout",
     "output_type": "stream",
     "text": [
      "Accuracy modèle naif : 50.12%\n"
     ]
    }
   ],
   "source": [
    "print('Accuracy modèle naif : {:.2f}%'.format(score_naive_model))"
   ]
  },
  {
   "cell_type": "code",
   "execution_count": null,
   "metadata": {},
   "outputs": [],
   "source": [
    "#del df_poker_hand_test,df_poker_hand_train"
   ]
  },
  {
   "cell_type": "markdown",
   "metadata": {},
   "source": [
    "## Modélisation"
   ]
  },
  {
   "cell_type": "markdown",
   "metadata": {},
   "source": [
    "### Baseline modèle - Random Forest\n",
    "\n",
    "On atteint 70,38% d'accuracy sur notre modèle de baseline. Ce qui est plutot correcte par rapport au modèle naif.\n",
    "\n",
    "On remarque, cependant, que le modèle n'est pas capable de prédire les classes au delà de la 3ème sauf pour la 5ème. Ce qui rejoins notre hypothèse de départ.\n",
    "\n"
   ]
  },
  {
   "cell_type": "code",
   "execution_count": 297,
   "metadata": {},
   "outputs": [
    {
     "name": "stderr",
     "output_type": "stream",
     "text": [
      "[Parallel(n_jobs=-1)]: Using backend ThreadingBackend with 4 concurrent workers.\n",
      "[Parallel(n_jobs=-1)]: Done  42 tasks      | elapsed:    1.1s\n",
      "[Parallel(n_jobs=-1)]: Done 100 out of 100 | elapsed:    2.4s finished\n",
      "[Parallel(n_jobs=4)]: Using backend ThreadingBackend with 4 concurrent workers.\n",
      "[Parallel(n_jobs=4)]: Done  42 tasks      | elapsed:    5.7s\n",
      "[Parallel(n_jobs=4)]: Done 100 out of 100 | elapsed:   13.2s finished\n"
     ]
    },
    {
     "name": "stdout",
     "output_type": "stream",
     "text": [
      "Accuracy baseline modèle  : 70.3798%\n"
     ]
    }
   ],
   "source": [
    "clf_baseline = RandomForestClassifier(n_estimators=100,random_state=0, n_jobs=-1,verbose=1)\n",
    "clf_baseline.fit(df_train_X_dum,df_train_y)\n",
    "pred_baseline = clf_baseline.predict(df_test_X_dum)\n",
    "score_baseline = accuracy_score(df_test_y,pred_baseline)*100\n",
    "print('Accuracy baseline modèle  : {:.4f}%'.format(score_baseline))"
   ]
  },
  {
   "cell_type": "code",
   "execution_count": 105,
   "metadata": {},
   "outputs": [
    {
     "name": "stderr",
     "output_type": "stream",
     "text": [
      "/anaconda3/lib/python3.7/site-packages/sklearn/metrics/classification.py:1143: UndefinedMetricWarning: Precision and F-score are ill-defined and being set to 0.0 in labels with no predicted samples.\n",
      "  'precision', 'predicted', average, warn_for)\n",
      "/anaconda3/lib/python3.7/site-packages/sklearn/metrics/classification.py:1143: UndefinedMetricWarning: Precision and F-score are ill-defined and being set to 0.0 in labels with no predicted samples.\n",
      "  'precision', 'predicted', average, warn_for)\n",
      "/anaconda3/lib/python3.7/site-packages/sklearn/metrics/classification.py:1143: UndefinedMetricWarning: Precision and F-score are ill-defined and being set to 0.0 in labels with no predicted samples.\n",
      "  'precision', 'predicted', average, warn_for)\n"
     ]
    },
    {
     "name": "stdout",
     "output_type": "stream",
     "text": [
      "              precision    recall  f1-score   support\n",
      "\n",
      "           0       0.71      0.93      0.80    501209\n",
      "           1       0.70      0.56      0.62    422498\n",
      "           2       0.73      0.00      0.00     47622\n",
      "           3       0.93      0.00      0.00     21121\n",
      "           4       0.00      0.00      0.00      3885\n",
      "           5       1.00      0.00      0.00      1996\n",
      "           6       0.00      0.00      0.00      1424\n",
      "           7       0.00      0.00      0.00       230\n",
      "           8       0.00      0.00      0.00        12\n",
      "           9       0.00      0.00      0.00         3\n",
      "\n",
      "   micro avg       0.70      0.70      0.70   1000000\n",
      "   macro avg       0.41      0.15      0.14   1000000\n",
      "weighted avg       0.71      0.70      0.67   1000000\n",
      "\n"
     ]
    }
   ],
   "source": [
    "print(classification_report(df_test_y,pred_baseline))"
   ]
  },
  {
   "cell_type": "markdown",
   "metadata": {},
   "source": [
    "### Random Search avec Cross Validation pour le paramétrage des hyperparamètres - Random Forest\n",
    "\n",
    "Utilisation d'un random search pour alléger le temps de calculs et orienter les paramètres d'un futur grid search.\n",
    "Dans l'idée d'une Bayesian Optimization mais pas le temps de l'implémenter."
   ]
  },
  {
   "cell_type": "code",
   "execution_count": 62,
   "metadata": {},
   "outputs": [
    {
     "name": "stdout",
     "output_type": "stream",
     "text": [
      "{'n_estimators': [100, 311, 522, 733, 944, 1155, 1366, 1577, 1788, 2000], 'max_features': ['auto', 'sqrt'], 'max_depth': [10, 20, 30, 40, 50, 60, 70, 80, 90, 100, 110, None], 'min_samples_split': [2, 5, 10], 'min_samples_leaf': [1, 2, 4], 'bootstrap': [True, False]}\n"
     ]
    }
   ],
   "source": [
    "# Nombre d'arbres \n",
    "n_estimators = [int(x) for x in np.linspace(start = 100, stop = 2000, num = 10)]\n",
    "# Nombre de features à considérer pour chaque split\n",
    "max_features = ['auto', 'sqrt']\n",
    "# Profondeur max\n",
    "max_depth = [int(x) for x in np.linspace(10, 110, num = 11)]\n",
    "max_depth.append(None)\n",
    "# Nombre minimum d'échantillons pour split sur un noeud\n",
    "min_samples_split = [2, 5, 10]\n",
    "# Le nombre minimum d'échantillons requis pour être sur un nœud finis\n",
    "min_samples_leaf = [1, 2, 4]\n",
    "# Méthode de selection des échantillons pour chaque arbres\n",
    "bootstrap = [True, False]\n",
    "\n",
    "random_grid = {'n_estimators': n_estimators,\n",
    "               'max_features': max_features,\n",
    "               'max_depth': max_depth,\n",
    "               'min_samples_split': min_samples_split,\n",
    "               'min_samples_leaf': min_samples_leaf,\n",
    "               'bootstrap': bootstrap}\n",
    "\n",
    "print(random_grid)"
   ]
  },
  {
   "cell_type": "code",
   "execution_count": 63,
   "metadata": {},
   "outputs": [],
   "source": [
    "# On optimise en fonction de l'accuracy\n",
    "rdm_clf_tune = RandomizedSearchCV(estimator=RandomForestClassifier(random_state=0), \n",
    "                                  param_distributions=random_grid,\n",
    "                                  n_iter = 100, scoring='accuracy', \n",
    "                                  cv = 3, verbose=2, random_state=0, n_jobs=-1,\n",
    "                                  return_train_score=True)\n"
   ]
  },
  {
   "cell_type": "code",
   "execution_count": 64,
   "metadata": {},
   "outputs": [
    {
     "name": "stdout",
     "output_type": "stream",
     "text": [
      "Fitting 3 folds for each of 100 candidates, totalling 300 fits\n"
     ]
    },
    {
     "name": "stderr",
     "output_type": "stream",
     "text": [
      "[Parallel(n_jobs=-1)]: Using backend LokyBackend with 4 concurrent workers.\n",
      "[Parallel(n_jobs=-1)]: Done  33 tasks      | elapsed: 38.8min\n",
      "/anaconda3/lib/python3.7/site-packages/sklearn/externals/joblib/externals/loky/process_executor.py:706: UserWarning: A worker stopped while some jobs were given to the executor. This can be caused by a too short worker timeout or by a memory leak.\n",
      "  \"timeout or by a memory leak.\", UserWarning\n",
      "[Parallel(n_jobs=-1)]: Done 154 tasks      | elapsed: 98.4min\n",
      "[Parallel(n_jobs=-1)]: Done 300 out of 300 | elapsed: 134.6min finished\n"
     ]
    },
    {
     "data": {
      "text/plain": [
       "RandomizedSearchCV(cv=3, error_score='raise-deprecating',\n",
       "          estimator=RandomForestClassifier(bootstrap=True, class_weight=None, criterion='gini',\n",
       "            max_depth=None, max_features='auto', max_leaf_nodes=None,\n",
       "            min_impurity_decrease=0.0, min_impurity_split=None,\n",
       "            min_samples_leaf=1, min_samples_split=2,\n",
       "            min_weight_fraction_leaf=0.0, n_estimators='warn', n_jobs=None,\n",
       "            oob_score=False, random_state=0, verbose=0, warm_start=False),\n",
       "          fit_params=None, iid='warn', n_iter=100, n_jobs=-1,\n",
       "          param_distributions={'n_estimators': [100, 311, 522, 733, 944, 1155, 1366, 1577, 1788, 2000], 'max_features': ['auto', 'sqrt'], 'max_depth': [10, 20, 30, 40, 50, 60, 70, 80, 90, 100, 110, None], 'min_samples_split': [2, 5, 10], 'min_samples_leaf': [1, 2, 4], 'bootstrap': [True, False]},\n",
       "          pre_dispatch='2*n_jobs', random_state=0, refit=True,\n",
       "          return_train_score=True, scoring='accuracy', verbose=2)"
      ]
     },
     "execution_count": 64,
     "metadata": {},
     "output_type": "execute_result"
    }
   ],
   "source": [
    "rdm_clf_tune.fit(df_train_X_dum,df_train_y)"
   ]
  },
  {
   "cell_type": "code",
   "execution_count": 65,
   "metadata": {
    "scrolled": true
   },
   "outputs": [
    {
     "data": {
      "text/plain": [
       "{'n_estimators': 1577,\n",
       " 'min_samples_split': 10,\n",
       " 'min_samples_leaf': 1,\n",
       " 'max_features': 'auto',\n",
       " 'max_depth': 50,\n",
       " 'bootstrap': False}"
      ]
     },
     "execution_count": 65,
     "metadata": {},
     "output_type": "execute_result"
    }
   ],
   "source": [
    "rdm_clf_tune.best_params_"
   ]
  },
  {
   "cell_type": "markdown",
   "metadata": {},
   "source": [
    "### Best Random Search - Random Forest"
   ]
  },
  {
   "cell_type": "code",
   "execution_count": 66,
   "metadata": {},
   "outputs": [
    {
     "name": "stdout",
     "output_type": "stream",
     "text": [
      "Accuracy random forest avec hyperparam tuning  : 0.7639%\n"
     ]
    }
   ],
   "source": [
    "rdm_clf_best_random = rdm_clf_tune.best_estimator_\n",
    "pred_best_random = rdm_clf_best_random.predict(df_test_X_dum)\n",
    "score_best_random = accuracy_score(df_test_y,pred_best_random)*100\n",
    "print('Accuracy random forest avec hyperparam tuning  : {:.4f}%'.format(score_best_random))"
   ]
  },
  {
   "cell_type": "code",
   "execution_count": 278,
   "metadata": {
    "scrolled": true
   },
   "outputs": [
    {
     "ename": "NameError",
     "evalue": "name 'score_best_random' is not defined",
     "output_type": "error",
     "traceback": [
      "\u001b[0;31m---------------------------------------------------------------------------\u001b[0m",
      "\u001b[0;31mNameError\u001b[0m                                 Traceback (most recent call last)",
      "\u001b[0;32m<ipython-input-278-6dfcf4c5ddbf>\u001b[0m in \u001b[0;36m<module>\u001b[0;34m\u001b[0m\n\u001b[0;32m----> 1\u001b[0;31m \u001b[0mprint\u001b[0m\u001b[0;34m(\u001b[0m\u001b[0;34m'Amélioration du score de {:0.4f}%.'\u001b[0m\u001b[0;34m.\u001b[0m\u001b[0mformat\u001b[0m\u001b[0;34m(\u001b[0m \u001b[0;36m100\u001b[0m \u001b[0;34m*\u001b[0m \u001b[0;34m(\u001b[0m\u001b[0mscore_best_random\u001b[0m \u001b[0;34m-\u001b[0m \u001b[0mscore_baseline\u001b[0m\u001b[0;34m)\u001b[0m \u001b[0;34m/\u001b[0m \u001b[0mscore_baseline\u001b[0m\u001b[0;34m)\u001b[0m\u001b[0;34m)\u001b[0m\u001b[0;34m\u001b[0m\u001b[0;34m\u001b[0m\u001b[0m\n\u001b[0m",
      "\u001b[0;31mNameError\u001b[0m: name 'score_best_random' is not defined"
     ]
    }
   ],
   "source": [
    "print('Amélioration du score de {:0.4f}%.'.format( 100 *(score_best_random - score_baseline) / score_baseline))"
   ]
  },
  {
   "cell_type": "markdown",
   "metadata": {},
   "source": [
    "__On remarque qu'on a améliorer notre accuracy par rapport à notre baseline modèle de 8.54%.__ \n",
    "\n",
    "__Cependant, on remarque aussi que le modèle est devenue plus précis sur les classes sur représenté tandis que pour les classes sous représentées il n'est plus capable de les prédire (logique car on a maximiser l'accuracy)__"
   ]
  },
  {
   "cell_type": "code",
   "execution_count": 68,
   "metadata": {
    "scrolled": true
   },
   "outputs": [
    {
     "name": "stderr",
     "output_type": "stream",
     "text": [
      "/anaconda3/lib/python3.7/site-packages/sklearn/metrics/classification.py:1143: UndefinedMetricWarning: Precision and F-score are ill-defined and being set to 0.0 in labels with no predicted samples.\n",
      "  'precision', 'predicted', average, warn_for)\n"
     ]
    },
    {
     "name": "stdout",
     "output_type": "stream",
     "text": [
      "              precision    recall  f1-score   support\n",
      "\n",
      "           0       0.76      0.98      0.86    501209\n",
      "           1       0.77      0.65      0.70    422498\n",
      "           2       1.00      0.00      0.00     47622\n",
      "           3       0.67      0.00      0.00     21121\n",
      "           4       0.00      0.00      0.00      3885\n",
      "           5       0.00      0.00      0.00      1996\n",
      "           6       0.00      0.00      0.00      1424\n",
      "           7       0.00      0.00      0.00       230\n",
      "           8       0.00      0.00      0.00        12\n",
      "           9       0.00      0.00      0.00         3\n",
      "\n",
      "   micro avg       0.76      0.76      0.76   1000000\n",
      "   macro avg       0.32      0.16      0.16   1000000\n",
      "weighted avg       0.77      0.76      0.73   1000000\n",
      "\n"
     ]
    }
   ],
   "source": [
    "print(metrics.classification_report(df_test_y,pred_best_random))"
   ]
  },
  {
   "cell_type": "markdown",
   "metadata": {},
   "source": [
    "### Grid Search avec Cross Validation - Random Forest\n",
    "\n",
    "On essai d'être plus précis avec un Grid Search maintenant qu'on a une première idée du scope des hyperparamètres à optimiser"
   ]
  },
  {
   "cell_type": "code",
   "execution_count": 72,
   "metadata": {},
   "outputs": [],
   "source": [
    "# Create the parameter grid based on the results of random search \n",
    "param_grid = {\n",
    "    'bootstrap': [False],\n",
    "    'max_depth': [50, 60, 70],\n",
    "    'max_features': ['auto'],\n",
    "    'min_samples_leaf': [1, 2],\n",
    "    'min_samples_split': [8, 10, 12],\n",
    "    'n_estimators': [200, 500, 700]\n",
    "}\n",
    "\n",
    "\n",
    "# Instantiate the grid search model\n",
    "grid_search = GridSearchCV(estimator = RandomForestClassifier(random_state=0), param_grid = param_grid, \n",
    "                          cv = 3, n_jobs = -1, verbose = 2, return_train_score=True)"
   ]
  },
  {
   "cell_type": "code",
   "execution_count": 73,
   "metadata": {},
   "outputs": [
    {
     "name": "stdout",
     "output_type": "stream",
     "text": [
      "Fitting 3 folds for each of 54 candidates, totalling 162 fits\n"
     ]
    },
    {
     "name": "stderr",
     "output_type": "stream",
     "text": [
      "[Parallel(n_jobs=-1)]: Using backend LokyBackend with 4 concurrent workers.\n",
      "[Parallel(n_jobs=-1)]: Done  33 tasks      | elapsed:  5.8min\n",
      "[Parallel(n_jobs=-1)]: Done 154 tasks      | elapsed: 26.0min\n",
      "[Parallel(n_jobs=-1)]: Done 162 out of 162 | elapsed: 27.4min finished\n"
     ]
    }
   ],
   "source": [
    "# Fit the grid search to the data\n",
    "grid_search.fit(df_train_X_dum, df_train_y);"
   ]
  },
  {
   "cell_type": "code",
   "execution_count": 74,
   "metadata": {},
   "outputs": [
    {
     "data": {
      "text/plain": [
       "{'bootstrap': False,\n",
       " 'max_depth': 60,\n",
       " 'max_features': 'auto',\n",
       " 'min_samples_leaf': 1,\n",
       " 'min_samples_split': 10,\n",
       " 'n_estimators': 700}"
      ]
     },
     "execution_count": 74,
     "metadata": {},
     "output_type": "execute_result"
    }
   ],
   "source": [
    "grid_search.best_params_"
   ]
  },
  {
   "cell_type": "markdown",
   "metadata": {},
   "source": [
    "### Best Grid Search - Random Forest"
   ]
  },
  {
   "cell_type": "code",
   "execution_count": 67,
   "metadata": {},
   "outputs": [
    {
     "name": "stdout",
     "output_type": "stream",
     "text": [
      "Accuracy random forest avec hyperparam tuning  : 0.7645%\n"
     ]
    }
   ],
   "source": [
    "rdm_clf_best_grid = grid_search.best_estimator_\n",
    "pred_best_grid = rdm_clf_best_grid.predict(df_test_X_dum)\n",
    "score_best_grid = accuracy_score(df_test_y,pred_best_grid)*100\n",
    "print('Accuracy random forest avec hyperparam tuning  : {:.4f}%'.format(score_best_grid))"
   ]
  },
  {
   "cell_type": "code",
   "execution_count": 86,
   "metadata": {
    "scrolled": true
   },
   "outputs": [
    {
     "name": "stderr",
     "output_type": "stream",
     "text": [
      "/anaconda3/lib/python3.7/site-packages/sklearn/metrics/classification.py:1143: UndefinedMetricWarning: Precision and F-score are ill-defined and being set to 0.0 in labels with no predicted samples.\n",
      "  'precision', 'predicted', average, warn_for)\n"
     ]
    },
    {
     "name": "stdout",
     "output_type": "stream",
     "text": [
      "              precision    recall  f1-score   support\n",
      "\n",
      "           0       0.76      0.98      0.86    501209\n",
      "           1       0.77      0.65      0.71    422498\n",
      "           2       1.00      0.00      0.00     47622\n",
      "           3       0.50      0.00      0.00     21121\n",
      "           4       0.00      0.00      0.00      3885\n",
      "           5       0.00      0.00      0.00      1996\n",
      "           6       0.00      0.00      0.00      1424\n",
      "           7       0.00      0.00      0.00       230\n",
      "           8       0.00      0.00      0.00        12\n",
      "           9       0.00      0.00      0.00         3\n",
      "\n",
      "   micro avg       0.76      0.76      0.76   1000000\n",
      "   macro avg       0.30      0.16      0.16   1000000\n",
      "weighted avg       0.77      0.76      0.73   1000000\n",
      "\n"
     ]
    }
   ],
   "source": [
    "print(metrics.classification_report(df_test_y,pred_best_grid))"
   ]
  },
  {
   "cell_type": "markdown",
   "metadata": {},
   "source": [
    "__Pas très rentable en terme de temps pour une amélioration de seulement 0.0744%__"
   ]
  },
  {
   "cell_type": "code",
   "execution_count": 91,
   "metadata": {
    "scrolled": true
   },
   "outputs": [
    {
     "name": "stdout",
     "output_type": "stream",
     "text": [
      "Amélioration du score de 0.0744%.\n"
     ]
    }
   ],
   "source": [
    "print('Amélioration du score de {:0.4f}%.'.format( 100 *(score_best_grid - score_best_random) / score_best_random))"
   ]
  },
  {
   "cell_type": "markdown",
   "metadata": {},
   "source": [
    "### Trade-Off pour le nombres d'arbres - Random Forest"
   ]
  },
  {
   "cell_type": "code",
   "execution_count": 140,
   "metadata": {},
   "outputs": [
    {
     "name": "stderr",
     "output_type": "stream",
     "text": [
      "[Parallel(n_jobs=-1)]: Using backend ThreadingBackend with 4 concurrent workers.\n",
      "[Parallel(n_jobs=-1)]: Done  42 tasks      | elapsed:    1.3s\n",
      "[Parallel(n_jobs=-1)]: Done 192 tasks      | elapsed:    6.2s\n",
      "[Parallel(n_jobs=-1)]: Done 300 out of 300 | elapsed:    9.8s finished\n",
      "[Parallel(n_jobs=4)]: Using backend ThreadingBackend with 4 concurrent workers.\n",
      "[Parallel(n_jobs=4)]: Done  42 tasks      | elapsed:    5.5s\n",
      "[Parallel(n_jobs=4)]: Done 192 tasks      | elapsed:   24.2s\n",
      "[Parallel(n_jobs=4)]: Done 300 out of 300 | elapsed:   35.9s finished\n"
     ]
    },
    {
     "name": "stdout",
     "output_type": "stream",
     "text": [
      "Accuracy baseline modèle  : 0.7608%\n"
     ]
    }
   ],
   "source": [
    "# Rédution du nombre d'arbre à 300 car bon trade-off entre accuracy et temps de calcul\n",
    "clf_best_tradeoff = RandomForestClassifier(bootstrap= False,\n",
    "                             max_depth= 60,\n",
    "                             max_features= 'auto',\n",
    "                             min_samples_leaf= 1,\n",
    "                             min_samples_split= 10,\n",
    "                             n_estimators= 300,\n",
    "                             random_state=0, n_jobs=-1,verbose=1)\n",
    "\n",
    "clf_best_tradeoff.fit(df_train_X_dum,df_train_y)\n",
    "pred_best_tradeoff = clf_best_tradeoff.predict(df_test_X_dum)\n",
    "score_best_tradeoff = accuracy_score(df_test_y,pred_best_tradeoff)*100\n",
    "\n",
    "print('Accuracy baseline modèle  : {:.4f}%'.format(score_best_tradeoff))"
   ]
  },
  {
   "cell_type": "code",
   "execution_count": 90,
   "metadata": {},
   "outputs": [],
   "source": [
    "# Sauvgarde des modèles\n",
    "pickle.dump(rdm_clf_best_grid, open('rdm_clf_best_grid.pkl','wb'))\n",
    "pickle.dump(clf_best_tradeoff, open('clf_best_tradeoff.pkl','wb'))"
   ]
  },
  {
   "cell_type": "code",
   "execution_count": 65,
   "metadata": {},
   "outputs": [],
   "source": [
    "#rdm_clf_best_grid = pickle.load(open('rdm_clf_best_grid.pkl','rb'))"
   ]
  },
  {
   "cell_type": "markdown",
   "metadata": {},
   "source": [
    "### Autre approche de modélisation - Multi-Layer Perceptron Classifier\n",
    "\n",
    "Après pas mal d'optimisations on voit que l'on a atteint les limites du Random Forest sur ce type de données.\n",
    "\n",
    "Etant donnée la difficulté de ce dataset je me suis renseigné sur internet afin d'améliorer les résultats et j'ai trouvé que le Multi-Layer Perceptron Classifier performait très bien sur ce type de données non linéaire et avec une très mauvaise distribution."
   ]
  },
  {
   "cell_type": "code",
   "execution_count": 273,
   "metadata": {},
   "outputs": [
    {
     "name": "stderr",
     "output_type": "stream",
     "text": [
      "/anaconda3/lib/python3.7/site-packages/sklearn/preprocessing/data.py:625: DataConversionWarning: Data with input dtype int64 were all converted to float64 by StandardScaler.\n",
      "  return self.partial_fit(X, y)\n",
      "/anaconda3/lib/python3.7/site-packages/sklearn/base.py:462: DataConversionWarning: Data with input dtype int64 were all converted to float64 by StandardScaler.\n",
      "  return self.fit(X, **fit_params).transform(X)\n",
      "/anaconda3/lib/python3.7/site-packages/ipykernel_launcher.py:5: DataConversionWarning: Data with input dtype int64 were all converted to float64 by StandardScaler.\n",
      "  \"\"\"\n"
     ]
    }
   ],
   "source": [
    "# On Scale les données pour faciliter la convergence du MLP\n",
    "scaler = StandardScaler()\n",
    "\n",
    "data_train_X = scaler.fit_transform(df_train_X)\n",
    "data_test_X = scaler.transform(df_test_X)"
   ]
  },
  {
   "cell_type": "markdown",
   "metadata": {},
   "source": [
    "__Les hyperparamètres on été définit d'après ce rapport : https://github.com/sahirnoorali/poker-hand-analysis/blob/master/Report.pdf__\n",
    "\n",
    "__Ce sont les paramètres optimaux qu'a trouvé cette personne pour le \"state of the art\" sur ce dataset__ \n",
    "\n",
    "__J'ai aussi testé avec les données dummify (avec scaler et sans scaler) mais l'accuracy était légérement en dessous (96%) je suis donc resté sur les données sans dummification et avec un scaler__"
   ]
  },
  {
   "cell_type": "code",
   "execution_count": 274,
   "metadata": {
    "scrolled": true
   },
   "outputs": [
    {
     "name": "stdout",
     "output_type": "stream",
     "text": [
      "Iteration 1, loss = 1.01567976\n",
      "Iteration 2, loss = 0.97364193\n",
      "Iteration 3, loss = 0.95627863\n",
      "Iteration 4, loss = 0.95687946\n",
      "Iteration 5, loss = 0.91490610\n",
      "Iteration 6, loss = 0.90140684\n",
      "Iteration 7, loss = 0.82813141\n",
      "Iteration 8, loss = 0.74719821\n",
      "Iteration 9, loss = 0.71012673\n",
      "Iteration 10, loss = 0.57541805\n",
      "Iteration 11, loss = 0.45401125\n",
      "Iteration 12, loss = 0.32147827\n",
      "Iteration 13, loss = 0.22666582\n",
      "Iteration 14, loss = 0.18709449\n",
      "Iteration 15, loss = 0.15961656\n",
      "Iteration 16, loss = 0.14161509\n",
      "Iteration 17, loss = 0.14263935\n",
      "Iteration 18, loss = 0.23072203\n",
      "Iteration 19, loss = 0.11339675\n",
      "Iteration 20, loss = 0.09657091\n",
      "Iteration 21, loss = 0.09470253\n",
      "Iteration 22, loss = 0.08654500\n",
      "Iteration 23, loss = 0.08105579\n",
      "Iteration 24, loss = 0.07372785\n",
      "Iteration 25, loss = 0.06891031\n",
      "Iteration 26, loss = 0.09077814\n",
      "Iteration 27, loss = 0.17209859\n",
      "Iteration 28, loss = 0.09873666\n",
      "Iteration 29, loss = 0.06117188\n",
      "Iteration 30, loss = 0.05666061\n",
      "Iteration 31, loss = 0.05557796\n",
      "Iteration 32, loss = 0.05413082\n",
      "Iteration 33, loss = 0.07168455\n",
      "Iteration 34, loss = 0.08383493\n",
      "Iteration 35, loss = 0.07460922\n",
      "Iteration 36, loss = 0.09968351\n",
      "Iteration 37, loss = 0.07289560\n",
      "Iteration 38, loss = 0.05909126\n",
      "Iteration 39, loss = 0.04316602\n",
      "Iteration 40, loss = 0.04115333\n",
      "Iteration 41, loss = 0.04370930\n",
      "Iteration 42, loss = 0.06589668\n",
      "Iteration 43, loss = 0.05737033\n",
      "Iteration 44, loss = 0.03718212\n",
      "Iteration 45, loss = 0.18691389\n",
      "Iteration 46, loss = 0.06309530\n",
      "Iteration 47, loss = 0.03808795\n",
      "Iteration 48, loss = 0.05546169\n",
      "Iteration 49, loss = 0.04415141\n",
      "Iteration 50, loss = 0.03838833\n",
      "Iteration 51, loss = 0.03812074\n",
      "Iteration 52, loss = 0.04386581\n",
      "Iteration 53, loss = 0.04096885\n",
      "Iteration 54, loss = 0.10987204\n",
      "Iteration 55, loss = 0.06880315\n",
      "Training loss did not improve more than tol=0.000100 for 10 consecutive epochs. Stopping.\n"
     ]
    }
   ],
   "source": [
    "clf_MLP = MLPClassifier(solver='adam', alpha=1e-5,hidden_layer_sizes=(64,64),\n",
    "                        activation='tanh', learning_rate_init=0.02,max_iter=2000,\n",
    "                        random_state=0, verbose=2)\n",
    "\n",
    "clf_MLP.fit(data_train_X, df_train_y)\n",
    "pred_MLP = clf_MLP.predict(data_test_X)"
   ]
  },
  {
   "cell_type": "markdown",
   "metadata": {},
   "source": [
    "__On remarque que le MLP est excellent concernant les classes les plus représentées (0 à 3, qui contiennent 99,245% des observations) et performe plutot bien sur les classes 4, 5, 6 et 7. Cependant, le modèle n'est toujours pas capable d'identifier les classes les plus sous présenté (8 et 9).__\n",
    "\n",
    "__Une méthode afin d'être plus performant sur ces classes sous représentées serait de faire de l'over-sampling ou d'entrainer un modèle afin de reconnaitre si une main fait parti des classes sous représenté, puis classifier cette main avec uniquement les classes sous représentées.__"
   ]
  },
  {
   "cell_type": "code",
   "execution_count": 298,
   "metadata": {},
   "outputs": [
    {
     "name": "stdout",
     "output_type": "stream",
     "text": [
      "              precision    recall  f1-score   support\n",
      "\n",
      "           0       0.99      0.99      0.99    501209\n",
      "           1       0.99      0.99      0.99    422498\n",
      "           2       0.89      0.97      0.93     47622\n",
      "           3       0.93      0.76      0.84     21121\n",
      "           4       0.62      0.12      0.20      3885\n",
      "           5       0.25      0.04      0.07      1996\n",
      "           6       0.72      0.40      0.51      1424\n",
      "           7       0.33      0.17      0.22       230\n",
      "           8       0.00      0.00      0.00        12\n",
      "           9       0.00      0.00      0.00         3\n",
      "\n",
      "   micro avg       0.98      0.98      0.98   1000000\n",
      "   macro avg       0.57      0.44      0.47   1000000\n",
      "weighted avg       0.98      0.98      0.98   1000000\n",
      "\n",
      "Accuracy MLPClassifier  : 98.2056%\n"
     ]
    }
   ],
   "source": [
    "score_MLP = accuracy_score(df_test_y, pred_MLP)*100\n",
    "\n",
    "print(classification_report(df_test_y,pred_MLP))\n",
    "print('Accuracy MLPClassifier  : {:.4f}%'.format(score_MLP))"
   ]
  },
  {
   "cell_type": "markdown",
   "metadata": {},
   "source": [
    "__On constate une grosse amélioration de l'accuracy +28.45% par rapport au Random forest avec Grid Search.__"
   ]
  },
  {
   "cell_type": "code",
   "execution_count": 300,
   "metadata": {
    "scrolled": true
   },
   "outputs": [
    {
     "name": "stdout",
     "output_type": "stream",
     "text": [
      "Amélioration du score de 12745.7124%.\n"
     ]
    }
   ],
   "source": [
    "print('Amélioration du score de {:0.4f}%.'.format( 100 * (score_MLP - score_best_grid) / score_best_grid))"
   ]
  },
  {
   "cell_type": "code",
   "execution_count": 70,
   "metadata": {},
   "outputs": [],
   "source": [
    "# Sauvgarde du modèles\n",
    "pickle.dump(clf_MLP, open('clf_MLP.pkl','wb'))"
   ]
  },
  {
   "cell_type": "markdown",
   "metadata": {},
   "source": [
    "### Comparaison des modèles testés avec leurs scores"
   ]
  },
  {
   "cell_type": "code",
   "execution_count": 301,
   "metadata": {},
   "outputs": [
    {
     "name": "stdout",
     "output_type": "stream",
     "text": [
      "                 Nom des modèles  Scores_Accuracy\n",
      "5                 MLP_classifier        98.205600\n",
      "1            Baseline_rdm_forest        70.379800\n",
      "0                    Naive_model        50.120900\n",
      "3           Best_Grid_rdm_forest         0.764501\n",
      "2  Best_Random_Search_rdm_forest         0.763900\n",
      "4      Best_trade_off_rdm_forest         0.760783\n",
      "\n"
     ]
    }
   ],
   "source": [
    "names = ['Naive_model','Baseline_rdm_forest','Best_Random_Search_rdm_forest',\n",
    "         'Best_Grid_rdm_forest','Best_trade_off_rdm_forest','MLP_classifier']\n",
    "scores = [score_naive_model,score_baseline,0.7639,score_best_grid,score_best_tradeoff,score_MLP]\n",
    "\n",
    "df_comparaison = pd.DataFrame({'Nom des modèles' : names,\n",
    "                              'Scores_Accuracy' : scores})\n",
    "\n",
    "\n",
    "print(df_comparaison.sort_values(by=['Scores_Accuracy'], ascending=False))"
   ]
  },
  {
   "cell_type": "markdown",
   "metadata": {},
   "source": [
    "### Autre approche de modélisation \n",
    "\n",
    "D'autres approches on été testé mais ce sont révélées non concluantes donc non présentes dans ce notebook :\n",
    "\n",
    "-  Over-Sampling/Down-Sampling : pas efficace, n'a pas permis d'améliorer l'accuracy sur les classes sous représentées.\n",
    "-  Double classification : D'abord classifier si une main est de type rare (4, 5, 6, 7, 8, 9) puis, avec un modèle uniquement entrainé sur les main de type rare, classifier la main en question. Pas efficace non plus, car pas capable de classifier correctement des mains de type rares\n"
   ]
  }
 ],
 "metadata": {
  "kernelspec": {
   "display_name": "Python 3",
   "language": "python",
   "name": "python3"
  },
  "language_info": {
   "codemirror_mode": {
    "name": "ipython",
    "version": 3
   },
   "file_extension": ".py",
   "mimetype": "text/x-python",
   "name": "python",
   "nbconvert_exporter": "python",
   "pygments_lexer": "ipython3",
   "version": "3.7.1"
  }
 },
 "nbformat": 4,
 "nbformat_minor": 2
}
